{
 "cells": [
  {
   "cell_type": "markdown",
   "metadata": {},
   "source": [
    "# Imports set up rendering"
   ]
  },
  {
   "cell_type": "code",
   "execution_count": null,
   "metadata": {},
   "outputs": [],
   "source": [
    "#@title Check if MuJoCo installation was successful\n",
    "\n",
    "import distutils.util\n",
    "import os\n",
    "import subprocess\n",
    "if subprocess.run('nvidia-smi').returncode:\n",
    "  raise RuntimeError(\n",
    "      'Cannot communicate with GPU. '\n",
    "      'Make sure you are using a GPU Colab runtime. '\n",
    "      'Go to the Runtime menu and select Choose runtime type.')\n",
    "\n",
    "# Add an ICD config so that glvnd can pick up the Nvidia EGL driver.\n",
    "# This is usually installed as part of an Nvidia driver package, but the Colab\n",
    "# kernel doesn't install its driver via APT, and as a result the ICD is missing.\n",
    "# (https://github.com/NVIDIA/libglvnd/blob/master/src/EGL/icd_enumeration.md)\n",
    "NVIDIA_ICD_CONFIG_PATH = '/usr/share/glvnd/egl_vendor.d/10_nvidia.json'\n",
    "if not os.path.exists(NVIDIA_ICD_CONFIG_PATH):\n",
    "  with open(NVIDIA_ICD_CONFIG_PATH, 'w') as f:\n",
    "    f.write(\"\"\"{\n",
    "    \"file_format_version\" : \"1.0.0\",\n",
    "    \"ICD\" : {\n",
    "        \"library_path\" : \"libEGL_nvidia.so.0\"\n",
    "    }\n",
    "}\n",
    "\"\"\")\n",
    "\n",
    "# Configure MuJoCo to use the EGL rendering backend (requires GPU)\n",
    "print('Setting environment variable to use GPU rendering:')\n",
    "# %env MUJOCO_GL=egl\n",
    "os.environ['MUJOCO_GL'] = 'egl'\n",
    "os.environ['PYOPENGL_PLATFORM'] = 'egl'\n",
    "try:\n",
    "  print('Checking that the installation succeeded:')\n",
    "  import mujoco\n",
    "  mujoco.MjModel.from_xml_string('<mujoco/>')\n",
    "except Exception as e:\n",
    "  raise e from RuntimeError(\n",
    "      'Something went wrong during installation. Check the shell output above '\n",
    "      'for more information.\\n'\n",
    "      'If using a hosted Colab runtime, make sure you enable GPU acceleration '\n",
    "      'by going to the Runtime menu and selecting \"Choose runtime type\".')\n",
    "\n",
    "print('Installation successful.')\n",
    "\n",
    "# Tell XLA to use Triton GEMM, this improves steps/sec by ~30% on some GPUs\n",
    "os.environ[\"XLA_FLAGS\"] = (\n",
    "    \"--xla_gpu_enable_triton_softmax_fusion=true \"\n",
    "    \"--xla_gpu_triton_gemm_any=True \"\n",
    "    # \"--xla_gpu_enable_async_collectives=true \"\n",
    "    # \"--xla_gpu_enable_latency_hiding_scheduler=true \"\n",
    "    # \"--xla_gpu_enable_highest_priority_async_stream=true \"\n",
    ")\n",
    "# os.environ['CUDA_VISIBLE_DEVICES'] = '0' # Use GPU 1\n",
    "os.environ[\"XLA_FLAGS\"] = (\n",
    "    \"--xla_gpu_enable_triton_softmax_fusion=true \" \"--xla_gpu_triton_gemm_any=True \"\n",
    ")"
   ]
  },
  {
   "cell_type": "code",
   "execution_count": null,
   "metadata": {},
   "outputs": [],
   "source": [
    "%load_ext autoreload\n",
    "%autoreload 2\n",
    "import os\n",
    "\n",
    "os.environ[\"XLA_PYTHON_CLIENT_MEM_FRACTION\"] = \"0.95\"\n",
    "# os.environ[\"CUDA_VISIBLE_DEVICES\"] = \"1\"  # Use GPU 1\n",
    "import functools\n",
    "import jax\n",
    "# jax.config.update(\"jax_enable_x64\", True)\n",
    "\n",
    "n_gpus = jax.device_count(backend=\"gpu\")\n",
    "print(f\"Using {n_gpus} GPUs\")\n",
    "from typing import Dict\n",
    "from brax import envs\n",
    "import mujoco\n",
    "import pickle\n",
    "import warnings\n",
    "import mediapy as media\n",
    "import hydra\n",
    "import jax.numpy as jp\n",
    "\n",
    "from omegaconf import DictConfig, OmegaConf\n",
    "from brax.training.agents.ppo import networks as ppo_networks\n",
    "from custom_brax import custom_ppo as ppo\n",
    "from custom_brax import custom_wrappers\n",
    "from custom_brax import custom_ppo_networks\n",
    "from orbax import checkpoint as ocp\n",
    "from flax.training import orbax_utils\n",
    "from preprocessing.mjx_preprocess import process_clip_to_train\n",
    "from envs.Fly_Env_Brax import FlyTracking, FlyMultiClipTracking\n",
    "from utils.utils import *\n",
    "from utils.fly_logging import log_eval_rollout\n",
    "\n",
    "warnings.filterwarnings(\"ignore\", category=DeprecationWarning)\n",
    "# jax.config.update(\"jax_enable_x64\", True)\n",
    "\n",
    "from hydra import initialize, compose\n",
    "from hydra.core.hydra_config import HydraConfig\n",
    "from hydra.core.global_hydra import GlobalHydra\n"
   ]
  },
  {
   "cell_type": "markdown",
   "metadata": {},
   "source": [
    "# Load configs"
   ]
  },
  {
   "cell_type": "code",
   "execution_count": null,
   "metadata": {},
   "outputs": [],
   "source": [
    "base_dir ='/data/users/eabe/biomech_model/Flybody/RL_Flybody/ckpt'\n",
    "run_cfg_list = sorted(list(Path(base_dir).rglob('run_config.yaml')))\n",
    "for n, run_cfg in enumerate(run_cfg_list):\n",
    "    print(n, run_cfg)\n",
    "\n",
    "\n",
    "cfg_num = 3\n",
    "cfg = OmegaConf.load(run_cfg_list[cfg_num])\n",
    "run_id = int(run_cfg_list[cfg_num].parent.parent.stem.split('=')[1])"
   ]
  },
  {
   "cell_type": "code",
   "execution_count": 4,
   "metadata": {},
   "outputs": [],
   "source": [
    "dataset = \"multiclip\"\n",
    "with initialize(version_base=None, config_path=\"configs\"):\n",
    "    cfg_temp=compose(config_name='config.yaml',overrides= [f\"dataset=fly_{dataset}\", f\"train=train_fly_{dataset}\", \"paths=walle\", \"version=ckpt\", f'run_id={run_id}'],return_hydra_config=True,)\n",
    "    HydraConfig.instance().set_config(cfg_temp)\n",
    "    \n",
    "cfg.paths = cfg_temp.paths"
   ]
  },
  {
   "cell_type": "code",
   "execution_count": 5,
   "metadata": {},
   "outputs": [],
   "source": [
    "for k in cfg.paths.keys():\n",
    "    if (k != 'user'):\n",
    "        cfg.paths[k] = Path(cfg.paths[k])\n",
    "        cfg.paths[k].mkdir(parents=True, exist_ok=True)\n",
    "env_cfg = cfg.dataset\n",
    "env_args = cfg.dataset.env_args\n",
    "\n",
    "cfg.paths.base_dir = cfg.paths.base_dir.parent / 'ckpt'\n",
    "reference_path = cfg.paths.data_dir/ f\"clips/all_clips_batch_interp.p\"\n",
    "# reference_path = cfg.paths.data_dir/ f\"clips/{cfg.dataset['clip_idx']}\"\n",
    "reference_path.parent.mkdir(parents=True, exist_ok=True)\n",
    "\n",
    "with open(reference_path, \"rb\") as file:\n",
    "    # Use pickle.load() to load the data from the file\n",
    "    reference_clip = pickle.load(file)\n"
   ]
  },
  {
   "cell_type": "markdown",
   "metadata": {},
   "source": [
    "# Load env"
   ]
  },
  {
   "cell_type": "code",
   "execution_count": null,
   "metadata": {},
   "outputs": [],
   "source": [
    "from envs.Fly_Env_Brax import FlyTracking, FlyMultiClipTracking, FlyRunSim, _bounded_quat_dist\n",
    "# dataset = 'multiclip'\n",
    "\n",
    "# with initialize(version_base=None, config_path=\"configs\"):\n",
    "#     cfg=compose(config_name='config.yaml',overrides= [f\"dataset=fly_{dataset}\", f\"train=train_fly_{dataset}\", \"paths=walle\"],return_hydra_config=True,)\n",
    "#     HydraConfig.instance().set_config(cfg)\n",
    "\n",
    "\n",
    "# env_args = cfg.dataset.env_args\n",
    "envs.register_environment(\"fly_freejnt_clip\", FlyTracking)\n",
    "envs.register_environment(\"fly_freejnt_multiclip\", FlyMultiClipTracking)\n",
    "envs.register_environment(\"fly_run_policy\", FlyRunSim)\n",
    "# cfg.dataset.env_args.mjcf_path = '/home/eabe/Research/MyRepos/Brax-Rodent-Track/assets/fruitfly/fruitfly_viz_only.xml'\n",
    "print(cfg.train.env_name)\n",
    "env = envs.get_environment(\n",
    "    cfg.train.env_name,\n",
    "    reference_clip=reference_clip,\n",
    "    **cfg.dataset.env_args,\n",
    ")"
   ]
  },
  {
   "cell_type": "code",
   "execution_count": null,
   "metadata": {},
   "outputs": [],
   "source": []
  },
  {
   "cell_type": "code",
   "execution_count": null,
   "metadata": {},
   "outputs": [],
   "source": [
    "dataset = \"multiclip\"\n",
    "with initialize(version_base=None, config_path=\"configs\"):\n",
    "    cfg=compose(config_name='config.yaml',overrides= [f\"dataset=fly_{dataset}\", f\"train=train_fly_{dataset}\", \"paths=walle\"],return_hydra_config=True,)\n",
    "    HydraConfig.instance().set_config(cfg)\n",
    "    \n",
    "for k in cfg.paths.keys():\n",
    "    if (k != 'user'):\n",
    "        cfg.paths[k] = Path(cfg.paths[k])\n",
    "        cfg.paths[k].mkdir(parents=True, exist_ok=True)\n",
    "env_cfg = cfg.dataset\n",
    "env_args = cfg.dataset.env_args\n",
    "reference_path = cfg.paths.data_dir/ f\"clips/all_clips_batch_interp.p\"\n",
    "# reference_path = cfg.paths.data_dir/ f\"clips/0.p\"\n",
    "reference_path.parent.mkdir(parents=True, exist_ok=True)\n",
    "\n",
    "with open(reference_path, \"rb\") as file:\n",
    "    # Use pickle.load() to load the data from the file\n",
    "    reference_clip = pickle.load(file)\n"
   ]
  },
  {
   "cell_type": "code",
   "execution_count": null,
   "metadata": {},
   "outputs": [],
   "source": [
    "dataset = 'multiclip'\n",
    "\n",
    "from envs.Fly_Env_Brax import FlyTracking, FlyMultiClipTracking, FlyRunSim, _bounded_quat_dist\n",
    "with initialize(version_base=None, config_path=\"configs\"):\n",
    "    cfg=compose(config_name='config.yaml',overrides= [f\"dataset=fly_{dataset}\", f\"train=train_fly_{dataset}\", \"paths=walle\"],return_hydra_config=True,)\n",
    "    HydraConfig.instance().set_config(cfg)\n",
    "    \n",
    "\n",
    "env_args = cfg.dataset.env_args\n",
    "print(cfg.train.env_name)\n",
    "envs.register_environment(\"fly_freejnt_clip\", FlyTracking)\n",
    "envs.register_environment(\"fly_freejnt_multiclip\", FlyMultiClipTracking)\n",
    "envs.register_environment(\"fly_run_policy\", FlyRunSim)\n",
    "# cfg_load = OmegaConf.load('/data/users/eabe/biomech_model/Flybody/RL_Flybody/ckpt/run_id=21377073//logs/run_config.yaml')\n",
    "# cfg_load = OmegaConf.load('/data/users/eabe/biomech_model/Flybody/RL_Flybody/ckpt/run_id=21356039/logs/run_config.yaml')\n",
    "cfg_load = OmegaConf.load('/data/users/eabe/biomech_model/Flybody/RL_Flybody/ckpt/run_id=21402781/logs/run_config.yaml')\n",
    "cfg_load.paths = cfg.paths\n",
    "env = envs.get_environment(\n",
    "    cfg.train.env_name,\n",
    "    reference_clip=reference_clip,\n",
    "    **cfg.dataset.env_args,\n",
    ")"
   ]
  },
  {
   "cell_type": "code",
   "execution_count": 7,
   "metadata": {},
   "outputs": [],
   "source": [
    "rollout_env = custom_wrappers.RenderRolloutWrapperTracking(env)\n",
    "    \n",
    "# rollout_env = custom_wrappers.RenderRolloutWrapperTracking(env)\n",
    "# define the jit reset/step functions\n",
    "jit_reset = jax.jit(rollout_env.reset)\n",
    "jit_step = jax.jit(rollout_env.step)\n",
    "state = jit_reset(jax.random.PRNGKey(0))\n"
   ]
  },
  {
   "cell_type": "markdown",
   "metadata": {},
   "source": [
    "# Test inference"
   ]
  },
  {
   "cell_type": "code",
   "execution_count": 8,
   "metadata": {},
   "outputs": [],
   "source": [
    "from orbax import checkpoint as ocp\n",
    "from flax.training import orbax_utils\n",
    "import optax"
   ]
  },
  {
   "cell_type": "code",
   "execution_count": null,
   "metadata": {},
   "outputs": [],
   "source": [
    "# model_path = Path('/data/users/eabe/biomech_model/Flybody/RL_Flybody/ckpt/run_id=21390629/ckpt/21390629')\n",
    "# model_path = Path('/data/users/eabe/biomech_model/Flybody/RL_Flybody/ckpt/run_id=21377073/ckpt/21377073')\n",
    "# model_path = Path('/data/users/eabe/biomech_model/Flybody/RL_Flybody/ckpt/run_id=21356039/ckpt/21356039')\n",
    "model_path = Path('/data/users/eabe/biomech_model/Flybody/RL_Flybody/ckpt/run_id=21402781/ckpt/21402781')\n",
    "# model_path = Path(cfg.paths.ckpt_dir/f\"{run_id}\")\n",
    "##### Get all the checkpoint files #####\n",
    "ckpt_files = sorted([Path(f.path) for f in os.scandir(model_path) if f.is_dir()])\n",
    "max_ckpt = ckpt_files[-1].as_posix()\n",
    "env_args = cfg.dataset.env_args\n",
    "print(max_ckpt)"
   ]
  },
  {
   "cell_type": "code",
   "execution_count": null,
   "metadata": {},
   "outputs": [],
   "source": [
    "def policy_params_fn(num_steps, make_policy, params, policy_params_fn_key, model_path=model_path):\n",
    "  # save checkpoints\n",
    "  orbax_checkpointer = ocp.PyTreeCheckpointer()\n",
    "  save_args = orbax_utils.save_args_from_target(params)\n",
    "  path = Path('/data/users/eabe/biomech_model/Flybody/RL_Flybody/debug/Test_paths') / f'{num_steps}'\n",
    "  orbax_checkpointer.save(path, params, force=True, save_args=save_args)\n",
    "  \n",
    "  \n",
    "episode_length = (env_args.clip_length - 50 - env_cfg.ref_traj_length) * env._steps_for_cur_frame\n",
    "print(f\"episode_length {episode_length}\")\n",
    "\n",
    "train_fn = functools.partial(\n",
    "            ppo.train,\n",
    "            num_envs=cfg.train[\"num_envs\"],\n",
    "            num_timesteps=0,\n",
    "            num_evals=1,\n",
    "            num_resets_per_eval=cfg.train['num_resets_per_eval'],\n",
    "            reward_scaling=cfg.train['reward_scaling'],\n",
    "            episode_length=episode_length,\n",
    "            normalize_observations=True,\n",
    "            action_repeat=cfg.train['action_repeat'],\n",
    "            clipping_epsilon=cfg.train[\"clipping_epsilon\"],\n",
    "            unroll_length=cfg.train['unroll_length'],\n",
    "            num_minibatches=cfg.train[\"num_minibatches\"],\n",
    "            num_updates_per_batch=cfg.train[\"num_updates_per_batch\"],\n",
    "            discounting=cfg.train['discounting'],\n",
    "            learning_rate=cfg.train[\"learning_rate\"],\n",
    "            kl_weight=cfg.train[\"kl_weight\"],\n",
    "            entropy_cost=cfg.train['entropy_cost'],\n",
    "            batch_size=cfg.train[\"batch_size\"],\n",
    "            seed=cfg.train['seed'],\n",
    "            network_factory=functools.partial(\n",
    "                custom_ppo_networks.make_intention_ppo_networks,\n",
    "                encoder_hidden_layer_sizes=cfg.train['encoder_hidden_layer_sizes'],\n",
    "                decoder_hidden_layer_sizes=cfg.train['decoder_hidden_layer_sizes'],\n",
    "                value_hidden_layer_sizes=cfg.train['value_hidden_layer_sizes'],\n",
    "            ),\n",
    "            restore_checkpoint_path=max_ckpt,\n",
    "        )\n",
    "\n",
    "make_inference_fn, params, _= train_fn(environment=env,)\n",
    "params2 = (params[0],params[1].policy)\n",
    "policy_params = (params[0],params[1].policy)\n",
    "# Env_steps = params[2]\n",
    "jit_inference_fn = jax.jit(make_inference_fn(policy_params, deterministic=True))"
   ]
  },
  {
   "cell_type": "code",
   "execution_count": null,
   "metadata": {},
   "outputs": [],
   "source": [
    "state.info['clip_idx'] = 1\n",
    "print(state.info['clip_idx'])\n",
    "# reset_rng, act_rng = jax.random.split(policy_params_fn_key)\n",
    "rng = jax.random.PRNGKey(0)\n",
    "reset_rng, act_rng = jax.random.split(rng)\n",
    "state = jit_reset(reset_rng)\n",
    "\n",
    "rollout = [state]\n",
    "# rollout_len = env_args[\"clip_length\"]*int(rollout_env._steps_for_cur_frame)\n",
    "rollout_len = 1000\n",
    "ctrl_all = []\n",
    "for i in range(rollout_len):\n",
    "    _, act_rng = jax.random.split(act_rng)\n",
    "    obs = state.obs\n",
    "    ctrl, extras = jit_inference_fn(obs, act_rng)\n",
    "    state = jit_step(state, ctrl)\n",
    "    ctrl_all.append(ctrl.copy())\n",
    "    rollout.append(state)\n",
    "rollout2 = [state.pipeline_state for state in rollout]\n"
   ]
  },
  {
   "cell_type": "code",
   "execution_count": null,
   "metadata": {},
   "outputs": [],
   "source": [
    "scene_option = mujoco.MjvOption()\n",
    "scene_option.flags[mujoco.mjtVisFlag.mjVIS_TRANSPARENT] = True\n",
    "scene_option.flags[mujoco.mjtVisFlag.mjVIS_CONTACTPOINT] = True\n",
    "scene_option.flags[mujoco.mjtVisFlag.mjVIS_CONTACTFORCE] = True\n",
    "\n",
    "pixels = rollout_env.render(rollout2, camera='track1', width=480, height=480, scene_option=scene_option)\n",
    "media.show_video(pixels,fps=50)"
   ]
  },
  {
   "cell_type": "code",
   "execution_count": null,
   "metadata": {},
   "outputs": [],
   "source": [
    "qposes_rollout = np.array([state.pipeline_state.qpos for state in rollout])\n",
    "\n",
    "ref_traj = env._get_reference_clip(rollout[0].info)\n",
    "print(f\"clip_id:{rollout[0].info['clip_idx']}\")\n",
    "qposes_ref = np.repeat(\n",
    "    np.hstack([ref_traj.position, ref_traj.quaternion, ref_traj.joints]),\n",
    "    env._steps_for_cur_frame,\n",
    "    axis=0,\n",
    ")\n",
    "spec = mujoco.MjSpec()\n",
    "spec = spec.from_file(cfg.dataset.rendering_mjcf)\n",
    "mj_model = spec.compile()\n",
    "print(cfg.dataset.rendering_mjcf)\n",
    "mj_model.opt.solver = {\n",
    "    \"cg\": mujoco.mjtSolver.mjSOL_CG,\n",
    "    \"newton\": mujoco.mjtSolver.mjSOL_NEWTON,\n",
    "}[\"cg\"]\n",
    "mj_model.opt.iterations = cfg.dataset.env_args.iterations\n",
    "mj_model.opt.ls_iterations = cfg.dataset.env_args.ls_iterations\n",
    "mj_model.opt.timestep = env.sys.mj_model.opt.timestep\n",
    "\n",
    "mj_data = mujoco.MjData(mj_model)\n",
    "site_id = [\n",
    "    mj_model.site(i).id\n",
    "    for i in range(mj_model.nsite)\n",
    "    if \"-0\" in mj_model.site(i).name\n",
    "]\n",
    "for id in site_id:\n",
    "    mj_model.site(id).rgba = [1, 0, 0, 1]\n",
    "\n",
    "scene_option = mujoco.MjvOption()\n",
    "scene_option.sitegroup[:] = [1, 1, 1, 1, 1, 0]\n",
    "scene_option.flags[mujoco.mjtVisFlag.mjVIS_CONTACTPOINT] = True\n",
    "scene_option.flags[mujoco.mjtVisFlag.mjVIS_CONTACTFORCE] = True\n",
    "\n",
    "# save rendering and log to wandb\n",
    "os.environ[\"MUJOCO_GL\"] = \"osmesa\"\n",
    "mujoco.mj_kinematics(mj_model, mj_data)\n",
    "# renderer = mujoco.Renderer(mj_model, height=512, width=512)\n",
    "\n",
    "frames = []\n",
    "# render while stepping using mujoco\n",
    "with mujoco.Renderer(mj_model, height=480, width=480) as renderer:\n",
    "    for qpos1, qpos2 in zip(qposes_rollout, qposes_ref):\n",
    "        mj_data.qpos = np.append(qpos1, qpos2)\n",
    "        mujoco.mj_forward(mj_model, mj_data)\n",
    "        renderer.update_scene(mj_data, camera=1, scene_option=scene_option)\n",
    "        pixels = renderer.render()\n",
    "        frames.append(pixels)"
   ]
  },
  {
   "cell_type": "code",
   "execution_count": null,
   "metadata": {},
   "outputs": [],
   "source": [
    "media.show_video(frames,fps=50)"
   ]
  },
  {
   "cell_type": "code",
   "execution_count": null,
   "metadata": {},
   "outputs": [],
   "source": [
    "for n, joint in enumerate(joint_names):\n",
    "   print(f'{n}: {joint}')"
   ]
  },
  {
   "cell_type": "code",
   "execution_count": null,
   "metadata": {},
   "outputs": [],
   "source": [
    "joint_idxs = env._joint_idxs\n",
    "joint_names = cfg.dataset.env_args.joint_names\n",
    "\n",
    "joints_policy = qposes_rollout[:, joint_idxs]\n",
    "joints_ref = qposes_ref[:, joint_idxs]\n",
    "\n",
    "fig, axs = plt.subplots(2, 1, figsize=(10, 10))\n",
    "# for i in range(joints_policy.shape[1]):\n",
    "i = 10\n",
    "axs[0].plot(joints_ref[:, i], label=joint_names[i])\n",
    "axs[0].plot(joints_policy[:, i], label=joint_names[i])\n",
    "\n",
    "i=12\n",
    "axs[1].plot(joints_ref[:, i], label=joint_names[i])\n",
    "axs[1].plot(joints_policy[:, i], label=joint_names[i])\n"
   ]
  },
  {
   "cell_type": "code",
   "execution_count": null,
   "metadata": {},
   "outputs": [],
   "source": []
  },
  {
   "cell_type": "code",
   "execution_count": null,
   "metadata": {},
   "outputs": [],
   "source": []
  },
  {
   "cell_type": "code",
   "execution_count": null,
   "metadata": {},
   "outputs": [],
   "source": [
    "ctrl_all = jp.array(ctrl_all)\n",
    "model_path = \"/home/eabe/Research/MyRepos/Brax-Rodent-Track/assets/fruitfly/fruitfly_force_fast_amp.xml\"\n",
    "spec = mujoco.MjSpec()\n",
    "spec = spec.from_file(model_path)\n",
    "thorax = spec.find_body(\"thorax\")\n",
    "first_joint = thorax.first_joint()\n",
    "# first_joint.delete()\n",
    "root = spec.compile()\n",
    "root.opt.solver = {\n",
    "    \"cg\": mujoco.mjtSolver.mjSOL_CG,\n",
    "    \"newton\": mujoco.mjtSolver.mjSOL_NEWTON,\n",
    "}[cfg.dataset.env_args.solver.lower()]\n",
    "root.opt.iterations = env_args.iterations\n",
    "root.opt.ls_iterations = env_args.ls_iterations\n",
    "root.opt.timestep = env_args.physics_timestep\n",
    "root.opt.jacobian = 0\n",
    "data = mujoco.MjData(root)\n",
    "data.qpos = qposes_rollout[0]\n",
    "mujoco.mj_forward(root, data)\n",
    "n_frames = ctrl_all.shape[0]\n",
    "height = 512\n",
    "width = 512\n",
    "frames = []\n",
    "fps = 1/env.dt\n",
    "times = []\n",
    "sensordata = []\n",
    "scene_option = mujoco.MjvOption()\n",
    "scene_option.sitegroup[:] = [1, 1, 1, 1, 1, 0]\n",
    "\n",
    "scene_option.flags[mujoco.mjtVisFlag.mjVIS_CONTACTPOINT] = True\n",
    "scene_option.flags[mujoco.mjtVisFlag.mjVIS_CONTACTFORCE] = True\n",
    "\n",
    "qpos_all,rollout,ncon_all = [],[],[]\n",
    "with mujoco.Renderer(root, height, width) as renderer:\n",
    "    for i in range(n_frames):\n",
    "        data.ctrl = ctrl_all[i].copy()\n",
    "        # data.qpos = qposes_rollout[i].copy()\n",
    "        while data.time < i/fps:\n",
    "            mujoco.mj_step(root, data)\n",
    "        sensordata.append(data.sensordata.copy())\n",
    "        times.append(data.time)\n",
    "        renderer.update_scene(data,camera='track1',scene_option=scene_option)\n",
    "        frame = renderer.render()\n",
    "        frames.append(frame)\n",
    "        qpos_all.append(data.qpos.copy())\n",
    "        ncon_all.append(data.ncon)\n",
    "        rollout.append(data)\n",
    "\n",
    "media.show_video(frames, fps=50)\n"
   ]
  },
  {
   "cell_type": "code",
   "execution_count": 17,
   "metadata": {},
   "outputs": [],
   "source": [
    "# 1 (mg cm) / (s^2) = 1.0 × 10-8 newtons"
   ]
  },
  {
   "cell_type": "code",
   "execution_count": null,
   "metadata": {},
   "outputs": [],
   "source": [
    "torque_data[f'clip{n:02d}'].keys()"
   ]
  },
  {
   "cell_type": "code",
   "execution_count": null,
   "metadata": {},
   "outputs": [],
   "source": [
    "torque_data = ioh5.load('/data/users/eabe/biomech_model/Flybody/datasets/Tuthill_data/Torque_control_multiclip.h5')\n",
    "mclip_sensor = [torque_data[f'clip{n:02d}']['sensordata'] for n in range(17)]"
   ]
  },
  {
   "cell_type": "code",
   "execution_count": 226,
   "metadata": {},
   "outputs": [],
   "source": [
    "sensordata = [state.pipeline_state.sensordata for state in rollout]\n",
    "sensordata = np.stack(sensordata)#[:,:-5]\n",
    "touch_sensors = sensordata#[:, -5:]"
   ]
  },
  {
   "cell_type": "code",
   "execution_count": null,
   "metadata": {},
   "outputs": [],
   "source": [
    "plt.plot(np.max(np.abs(sensordata), axis=0))"
   ]
  },
  {
   "cell_type": "code",
   "execution_count": null,
   "metadata": {},
   "outputs": [],
   "source": [
    "plt.plot(np.max(np.abs(sensordata), axis=0))"
   ]
  },
  {
   "cell_type": "code",
   "execution_count": null,
   "metadata": {},
   "outputs": [],
   "source": [
    "N = 5\n",
    "sdata = (sensordata.reshape(sensordata.shape[0],-1,3)) # Time x end_eff x xyz, x=forward 1e-8*\n",
    "sdata = np.apply_along_axis(lambda m: np.convolve(m, np.ones(N)/N, mode='full'), axis=0, arr=sdata)\n",
    "end_eff = [\n",
    "# 'claw_T1_left',\n",
    "'claw_T1_right',\n",
    "'claw_T2_left',\n",
    "'claw_T2_right',\n",
    "'claw_T3_left',\n",
    "'claw_T3_right',\n",
    "]\n",
    "t = 100\n",
    "dt = 100\n",
    "fig, axs = plt.subplots(3, 2, figsize=(10, 10))\n",
    "axs = axs.flatten()\n",
    "ax = axs[0]\n",
    "t_frame = 45\n",
    "ax.imshow(pixels[t+t_frame])\n",
    "ax.axis('off')\n",
    "for n in range(0,len(end_eff)):\n",
    "    ax = axs[n+1]\n",
    "    ax.plot(sdata[t:t+dt,n,0])\n",
    "    ax.plot(sdata[t:t+dt,n,1])\n",
    "    ax.plot(sdata[t:t+dt,n,2])\n",
    "    ax.axvline(t_frame, color='r')\n",
    "# plt.plot(sdata[:,:,2])"
   ]
  },
  {
   "cell_type": "code",
   "execution_count": null,
   "metadata": {},
   "outputs": [],
   "source": [
    "plt.plot(touch_sensors[t:dt,1])"
   ]
  },
  {
   "cell_type": "code",
   "execution_count": null,
   "metadata": {},
   "outputs": [],
   "source": [
    "N = 50\n",
    "sdata = 1e-8*(np.stack(sensordata).reshape(-1,6,3)) # Time x end_eff x xyz, x=forward\n",
    "sdata = np.apply_along_axis(lambda m: np.convolve(m, np.ones(N)/N, mode='full'), axis=0, arr=sdata)\n",
    "\n",
    "fig, axs = plt.subplots(3, 2, figsize=(10, 10), sharey=True)\n",
    "axs = axs.flatten()\n",
    "for n in range(len(end_eff)):\n",
    "    ax = axs[n]\n",
    "    ax.plot(sdata[:,n,0])\n",
    "    ax.plot(sdata[:,n,1])\n",
    "    ax.plot(sdata[:,n,2])\n",
    "# plt.plot(sdata[:,:,2])"
   ]
  },
  {
   "cell_type": "code",
   "execution_count": null,
   "metadata": {},
   "outputs": [],
   "source": []
  }
 ],
 "metadata": {
  "kernelspec": {
   "display_name": "stac-mjx-env",
   "language": "python",
   "name": "python3"
  },
  "language_info": {
   "codemirror_mode": {
    "name": "ipython",
    "version": 3
   },
   "file_extension": ".py",
   "mimetype": "text/x-python",
   "name": "python",
   "nbconvert_exporter": "python",
   "pygments_lexer": "ipython3",
   "version": "3.11.9"
  }
 },
 "nbformat": 4,
 "nbformat_minor": 2
}
