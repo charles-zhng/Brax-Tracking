{
 "cells": [
  {
   "cell_type": "markdown",
   "metadata": {},
   "source": [
    "# Imports set up rendering"
   ]
  },
  {
   "cell_type": "code",
   "execution_count": 1,
   "metadata": {},
   "outputs": [
    {
     "name": "stdout",
     "output_type": "stream",
     "text": [
      "Fri Oct 18 19:00:50 2024       \n",
      "+-----------------------------------------------------------------------------------------+\n",
      "| NVIDIA-SMI 550.107.02             Driver Version: 550.107.02     CUDA Version: 12.4     |\n",
      "|-----------------------------------------+------------------------+----------------------+\n",
      "| GPU  Name                 Persistence-M | Bus-Id          Disp.A | Volatile Uncorr. ECC |\n",
      "| Fan  Temp   Perf          Pwr:Usage/Cap |           Memory-Usage | GPU-Util  Compute M. |\n",
      "|                                         |                        |               MIG M. |\n",
      "|=========================================+========================+======================|\n",
      "|   0  NVIDIA RTX A6000               On  |   00000000:41:00.0 Off |                  Off |\n",
      "| 30%   35C    P8             14W /  300W |      11MiB /  49140MiB |      0%      Default |\n",
      "|                                         |                        |                  N/A |\n",
      "+-----------------------------------------+------------------------+----------------------+\n",
      "|   1  NVIDIA RTX A6000               On  |   00000000:61:00.0 Off |                  Off |\n",
      "| 30%   39C    P0             92W /  300W |     135MiB /  49140MiB |     91%      Default |\n",
      "|                                         |                        |                  N/A |\n",
      "+-----------------------------------------+------------------------+----------------------+\n",
      "                                                                                         \n",
      "+-----------------------------------------------------------------------------------------+\n",
      "| Processes:                                                                              |\n",
      "|  GPU   GI   CI        PID   Type   Process name                              GPU Memory |\n",
      "|        ID   ID                                                               Usage      |\n",
      "|=========================================================================================|\n",
      "|    0   N/A  N/A   3931791      G   /usr/lib/xorg/Xorg                              4MiB |\n",
      "|    1   N/A  N/A   3931791      G   /usr/lib/xorg/Xorg                            117MiB |\n",
      "|    1   N/A  N/A   3932046      G   /usr/bin/gnome-shell                            9MiB |\n",
      "+-----------------------------------------------------------------------------------------+\n",
      "Setting environment variable to use GPU rendering:\n",
      "Checking that the installation succeeded:\n",
      "Installation successful.\n"
     ]
    }
   ],
   "source": [
    "#@title Check if MuJoCo installation was successful\n",
    "\n",
    "import distutils.util\n",
    "import os\n",
    "import subprocess\n",
    "if subprocess.run('nvidia-smi').returncode:\n",
    "  raise RuntimeError(\n",
    "      'Cannot communicate with GPU. '\n",
    "      'Make sure you are using a GPU Colab runtime. '      'Go to the Runtime menu and select Choose runtime type.')\n",
    "\n",
    "# Add an ICD config so that glvnd can pick up the Nvidia EGL driver.\n",
    "# This is usually installed as part of an Nvidia driver package, but the Colab\n",
    "# kernel doesn't install its driver via APT, and as a result the ICD is missing.\n",
    "# (https://github.com/NVIDIA/libglvnd/blob/master/src/EGL/icd_enumeration.md)\n",
    "NVIDIA_ICD_CONFIG_PATH = '/usr/share/glvnd/egl_vendor.d/10_nvidia.json'\n",
    "if not os.path.exists(NVIDIA_ICD_CONFIG_PATH):\n",
    "  with open(NVIDIA_ICD_CONFIG_PATH, 'w') as f:\n",
    "    f.write(\"\"\"{\n",
    "    \"file_format_version\" : \"1.0.0\",\n",
    "    \"ICD\" : {\n",
    "        \"library_path\" : \"libEGL_nvidia.so.0\"\n",
    "    }\n",
    "}\n",
    "\"\"\")\n",
    "\n",
    "# Configure MuJoCo to use the EGL rendering backend (requires GPU)\n",
    "print('Setting environment variable to use GPU rendering:')\n",
    "# %env MUJOCO_GL=egl\n",
    "os.environ['MUJOCO_GL'] = 'egl'\n",
    "os.environ['PYOPENGL_PLATFORM'] = 'egl'\n",
    "try:\n",
    "  print('Checking that the installation succeeded:')\n",
    "  import mujoco\n",
    "  mujoco.MjModel.from_xml_string('<mujoco/>')\n",
    "except Exception as e:\n",
    "  raise e from RuntimeError(\n",
    "      'Something went wrong during installation. Check the shell output above '\n",
    "      'for more information.\\n'\n",
    "      'If using a hosted Colab runtime, make sure you enable GPU acceleration '\n",
    "      'by going to the Runtime menu and selecting \"Choose runtime type\".')\n",
    "\n",
    "print('Installation successful.')\n",
    "\n",
    "# Tell XLA to use Triton GEMM, this improves steps/sec by ~30% on some GPUs\n",
    "os.environ[\"XLA_FLAGS\"] = (\n",
    "    \"--xla_gpu_enable_triton_softmax_fusion=true \"\n",
    "    \"--xla_gpu_triton_gemm_any=True \"\n",
    "    # \"--xla_gpu_enable_async_collectives=true \"\n",
    "    # \"--xla_gpu_enable_latency_hiding_scheduler=true \"\n",
    "    # \"--xla_gpu_enable_highest_priority_async_stream=true \"\n",
    ")\n",
    "os.environ['CUDA_VISIBLE_DEVICES'] = '1' # Use GPU 1\n",
    "os.environ[\"XLA_FLAGS\"] = (\n",
    "    \"--xla_gpu_enable_triton_softmax_fusion=true \" \"--xla_gpu_triton_gemm_any=True \"\n",
    ")"
   ]
  },
  {
   "cell_type": "code",
   "execution_count": 2,
   "metadata": {},
   "outputs": [
    {
     "name": "stdout",
     "output_type": "stream",
     "text": [
      "Using 1 GPUs\n"
     ]
    },
    {
     "name": "stderr",
     "output_type": "stream",
     "text": [
      "2024-10-18 19:00:52.274110: W external/xla/xla/service/gpu/nvptx_compiler.cc:836] The NVIDIA driver's CUDA version is 12.4 which is older than the PTX compiler version (12.6.20). Because the driver is older than the PTX compiler version, XLA is disabling parallel compilation, which may slow down compilation. You should update your NVIDIA driver or use the NVIDIA-provided CUDA forward compatibility packages.\n",
      "/home/eabe/miniconda3/envs/stac-mjx-env/lib/python3.11/site-packages/wandb/analytics/sentry.py:90: SentryHubDeprecationWarning: `sentry_sdk.Hub` is deprecated and will be removed in a future major release. Please consult our 1.x to 2.x migration guide for details on how to migrate `Hub` usage to the new API: https://docs.sentry.io/platforms/python/migration/1.x-to-2.x\n",
      "  self.hub = sentry_sdk.Hub(client)\n"
     ]
    }
   ],
   "source": [
    "%load_ext autoreload\n",
    "%autoreload 2\n",
    "import os\n",
    "\n",
    "os.environ[\"XLA_PYTHON_CLIENT_MEM_FRACTION\"] = \"0.95\"\n",
    "# os.environ[\"CUDA_VISIBLE_DEVICES\"] = \"1\"  # Use GPU 1\n",
    "import functools\n",
    "import jax\n",
    "# jax.config.update(\"jax_enable_x64\", True)\n",
    "\n",
    "n_gpus = jax.device_count(backend=\"gpu\")\n",
    "print(f\"Using {n_gpus} GPUs\")\n",
    "from typing import Dict\n",
    "from brax import envs\n",
    "import mujoco\n",
    "import pickle\n",
    "import warnings\n",
    "import mediapy as media\n",
    "import hydra\n",
    "import jax.numpy as jp\n",
    "\n",
    "from omegaconf import DictConfig, OmegaConf\n",
    "from brax.training.agents.ppo import networks as ppo_networks\n",
    "from custom_brax import custom_ppo as ppo\n",
    "from custom_brax import custom_wrappers\n",
    "from custom_brax import custom_ppo_networks\n",
    "from orbax import checkpoint as ocp\n",
    "from flax.training import orbax_utils\n",
    "from preprocessing.mjx_preprocess import process_clip_to_train\n",
    "from envs.Fly_Env_Brax import FlyTracking, FlyMultiClipTracking\n",
    "from utils.utils import *\n",
    "from utils.fly_logging import log_eval_rollout\n",
    "\n",
    "warnings.filterwarnings(\"ignore\", category=DeprecationWarning)\n",
    "# jax.config.update(\"jax_enable_x64\", True)\n",
    "\n",
    "from hydra import initialize, compose\n",
    "from hydra.core.hydra_config import HydraConfig\n",
    "from hydra.core.global_hydra import GlobalHydra\n",
    "\n",
    "##### Plotting settings ######\n",
    "import matplotlib as mpl\n",
    "mpl.rcParams.update({'font.size':          10,\n",
    "                     'axes.linewidth':     2,\n",
    "                     'xtick.major.size':   5,\n",
    "                     'ytick.major.size':   5,\n",
    "                     'xtick.major.width':  2,\n",
    "                     'ytick.major.width':  2,\n",
    "                     'axes.spines.right':  False,\n",
    "                     'axes.spines.top':    False,\n",
    "                     'pdf.fonttype':       42,\n",
    "                     'xtick.labelsize':    10,\n",
    "                     'ytick.labelsize':    10,\n",
    "                     'figure.facecolor':   'white',\n",
    "                    #  'pdf.use14corefonts': True,\n",
    "                     'font.family':        'sans-serif',\n",
    "                    #  'font.family':        'Arial',\n",
    "                    #  'font.sans-serif':    'Arial',\n",
    "                     'font.serif':         'Arial',\n",
    "                    })"
   ]
  },
  {
   "cell_type": "markdown",
   "metadata": {},
   "source": [
    "# Load configs"
   ]
  },
  {
   "cell_type": "code",
   "execution_count": 4,
   "metadata": {},
   "outputs": [
    {
     "name": "stdout",
     "output_type": "stream",
     "text": [
      "0 /data/users/eabe/biomech_model/Flybody/RL_Flybody/ckpt/run_id=21356039/logs/run_config.yaml\n",
      "1 /data/users/eabe/biomech_model/Flybody/RL_Flybody/ckpt/run_id=21377073/logs/run_config.yaml\n",
      "2 /data/users/eabe/biomech_model/Flybody/RL_Flybody/ckpt/run_id=21390629/logs/run_config.yaml\n",
      "3 /data/users/eabe/biomech_model/Flybody/RL_Flybody/ckpt/run_id=21402781/logs/run_config.yaml\n",
      "4 /data/users/eabe/biomech_model/Flybody/RL_Flybody/ckpt/run_id=21426083/logs/run_config.yaml\n",
      "fly_multiclip\n"
     ]
    }
   ],
   "source": [
    "base_dir ='/data/users/eabe/biomech_model/Flybody/RL_Flybody/ckpt'\n",
    "run_cfg_list = sorted(list(Path(base_dir).rglob('run_config.yaml')))\n",
    "for n, run_cfg in enumerate(run_cfg_list):\n",
    "    print(n, run_cfg)\n",
    "\n",
    "\n",
    "cfg_num = 3\n",
    "cfg = OmegaConf.load(run_cfg_list[cfg_num])\n",
    "run_id = int(run_cfg_list[cfg_num].parent.parent.stem.split('=')[1])\n",
    "print(cfg.dataset.dname)\n",
    "fig_dir = Path('/data/users/eabe/biomech_model/Flybody/RL_Flybody/debug/figures')"
   ]
  },
  {
   "cell_type": "code",
   "execution_count": 5,
   "metadata": {},
   "outputs": [],
   "source": [
    "dataset = cfg.dataset.dname\n",
    "with initialize(version_base=None, config_path=\"configs\"):\n",
    "    cfg_temp=compose(config_name='config.yaml',overrides= [f\"dataset={dataset}\", f\"train=train_{dataset}\", \"paths=walle\", \"version=ckpt\", f'run_id={run_id}'],return_hydra_config=True,)\n",
    "    HydraConfig.instance().set_config(cfg_temp)\n",
    "    \n",
    "cfg.paths = cfg_temp.paths"
   ]
  },
  {
   "cell_type": "code",
   "execution_count": 7,
   "metadata": {},
   "outputs": [],
   "source": [
    "for k in cfg.paths.keys():\n",
    "    if (k != 'user'):\n",
    "        cfg.paths[k] = Path(cfg.paths[k])\n",
    "        cfg.paths[k].mkdir(parents=True, exist_ok=True)\n",
    "env_cfg = cfg.dataset\n",
    "env_args = cfg.dataset.env_args\n",
    "\n",
    "cfg.paths.base_dir = cfg.paths.base_dir.parent / 'ckpt'\n",
    "reference_path = cfg.paths.data_dir/ f\"clips/all_clips_batch_interp.p\"\n",
    "# reference_path = cfg.paths.data_dir/ f\"clips/{cfg.dataset['clip_idx']}\"\n",
    "reference_path.parent.mkdir(parents=True, exist_ok=True)\n",
    "\n",
    "with open(reference_path, \"rb\") as file:\n",
    "    # Use pickle.load() to load the data from the file\n",
    "    reference_clip = pickle.load(file)\n",
    "ref_data = np.concatenate([reference_clip.position,reference_clip.quaternion,reference_clip.joints], axis=-1)"
   ]
  },
  {
   "cell_type": "markdown",
   "metadata": {},
   "source": [
    "# Load env"
   ]
  },
  {
   "cell_type": "code",
   "execution_count": 8,
   "metadata": {},
   "outputs": [
    {
     "name": "stdout",
     "output_type": "stream",
     "text": [
      "fly_freejnt_multiclip\n",
      "Loaded Model: /home/eabe/Research/MyRepos/Brax-Rodent-Track/assets/fruitfly/fruitfly_force_fast.xml\n",
      "self._steps_for_cur_frame: 1.0\n"
     ]
    }
   ],
   "source": [
    "from envs.Fly_Env_Brax import FlyTracking, FlyMultiClipTracking, FlyRunSim, _bounded_quat_dist\n",
    "# dataset = 'multiclip'\n",
    "\n",
    "# with initialize(version_base=None, config_path=\"configs\"):\n",
    "#     cfg=compose(config_name='config.yaml',overrides= [f\"dataset=fly_{dataset}\", f\"train=train_fly_{dataset}\", \"paths=walle\"],return_hydra_config=True,)\n",
    "#     HydraConfig.instance().set_config(cfg)\n",
    "\n",
    "\n",
    "# env_args = cfg.dataset.env_args\n",
    "envs.register_environment(\"fly_freejnt_clip\", FlyTracking)\n",
    "envs.register_environment(\"fly_freejnt_multiclip\", FlyMultiClipTracking)\n",
    "envs.register_environment(\"fly_run_policy\", FlyRunSim)\n",
    "# cfg.dataset.env_args.mjcf_path = '/home/eabe/Research/MyRepos/Brax-Rodent-Track/assets/fruitfly/fruitfly_viz_only.xml'\n",
    "# cfg.dataset.env_args.mjcf_path = '/home/eabe/Research/MyRepos/Brax-Rodent-Track/assets/fruitfly/fruitfly_force_fast.xml'\n",
    "print(cfg.train.env_name)\n",
    "env = envs.get_environment(\n",
    "    cfg.train.env_name,\n",
    "    reference_clip=reference_clip,\n",
    "    **cfg.dataset.env_args,\n",
    ")"
   ]
  },
  {
   "cell_type": "code",
   "execution_count": 9,
   "metadata": {},
   "outputs": [],
   "source": [
    "rollout_env = custom_wrappers.RenderRolloutWrapperTracking(env)\n",
    "    \n",
    "# rollout_env = custom_wrappers.RenderRolloutWrapperTracking(env)\n",
    "# define the jit reset/step functions\n",
    "jit_reset = jax.jit(rollout_env.reset)\n",
    "jit_step = jax.jit(rollout_env.step)\n",
    "state = jit_reset(jax.random.PRNGKey(0))\n"
   ]
  },
  {
   "cell_type": "markdown",
   "metadata": {},
   "source": [
    "# Test inference"
   ]
  },
  {
   "cell_type": "code",
   "execution_count": 10,
   "metadata": {},
   "outputs": [],
   "source": [
    "from orbax import checkpoint as ocp\n",
    "from flax.training import orbax_utils\n",
    "import optax"
   ]
  },
  {
   "cell_type": "code",
   "execution_count": 11,
   "metadata": {},
   "outputs": [
    {
     "name": "stdout",
     "output_type": "stream",
     "text": [
      "/data/users/eabe/biomech_model/Flybody/RL_Flybody/ckpt/run_id=21402781/ckpt/21402781/058\n"
     ]
    }
   ],
   "source": [
    "model_path = Path(cfg.paths.ckpt_dir/f\"{run_id}\")\n",
    "##### Get all the checkpoint files #####\n",
    "ckpt_files = sorted([Path(f.path) for f in os.scandir(model_path) if f.is_dir()])\n",
    "max_ckpt = ckpt_files[-1].as_posix()\n",
    "env_args = cfg.dataset.env_args\n",
    "print(max_ckpt)"
   ]
  },
  {
   "cell_type": "code",
   "execution_count": 12,
   "metadata": {},
   "outputs": [
    {
     "name": "stdout",
     "output_type": "stream",
     "text": [
      "episode_length 946.0\n"
     ]
    }
   ],
   "source": [
    "def policy_params_fn(num_steps, make_policy, params, policy_params_fn_key, model_path=model_path):\n",
    "  # save checkpoints\n",
    "  orbax_checkpointer = ocp.PyTreeCheckpointer()\n",
    "  save_args = orbax_utils.save_args_from_target(params)\n",
    "  path = Path('/data/users/eabe/biomech_model/Flybody/RL_Flybody/ckpt/run_id=21356039/ckpt/Test_path') / f'{num_steps}'\n",
    "  orbax_checkpointer.save(path, params, force=True, save_args=save_args)\n",
    "  \n",
    "  \n",
    "episode_length = (env_args.clip_length - 50 - env_cfg.ref_traj_length) * env._steps_for_cur_frame\n",
    "print(f\"episode_length {episode_length}\")\n",
    "\n",
    "train_fn = functools.partial(\n",
    "            ppo.train,\n",
    "            num_envs=cfg.train[\"num_envs\"],\n",
    "            num_timesteps=0,\n",
    "            num_evals=1,\n",
    "            num_resets_per_eval=cfg.train['num_resets_per_eval'],\n",
    "            reward_scaling=cfg.train['reward_scaling'],\n",
    "            episode_length=episode_length,\n",
    "            normalize_observations=True,\n",
    "            action_repeat=cfg.train['action_repeat'],\n",
    "            clipping_epsilon=cfg.train[\"clipping_epsilon\"],\n",
    "            unroll_length=cfg.train['unroll_length'],\n",
    "            num_minibatches=cfg.train[\"num_minibatches\"],\n",
    "            num_updates_per_batch=cfg.train[\"num_updates_per_batch\"],\n",
    "            discounting=cfg.train['discounting'],\n",
    "            learning_rate=cfg.train[\"learning_rate\"],\n",
    "            kl_weight=cfg.train[\"kl_weight\"],\n",
    "            entropy_cost=cfg.train['entropy_cost'],\n",
    "            batch_size=cfg.train[\"batch_size\"],\n",
    "            seed=cfg.train['seed'],\n",
    "            network_factory=functools.partial(\n",
    "                custom_ppo_networks.make_intention_ppo_networks,\n",
    "                encoder_hidden_layer_sizes=cfg.train['encoder_hidden_layer_sizes'],\n",
    "                decoder_hidden_layer_sizes=cfg.train['decoder_hidden_layer_sizes'],\n",
    "                value_hidden_layer_sizes=cfg.train['value_hidden_layer_sizes'],\n",
    "            ),\n",
    "            restore_checkpoint_path=max_ckpt,\n",
    "        )\n",
    "\n",
    "make_inference_fn, params, _= train_fn(environment=env,)\n",
    "params2 = (params[0],params[1].policy)\n",
    "policy_params = (params[0],params[1].policy)\n",
    "# Env_steps = params[2]\n",
    "jit_inference_fn = jax.jit(make_inference_fn(policy_params, deterministic=True))"
   ]
  },
  {
   "cell_type": "code",
   "execution_count": 13,
   "metadata": {},
   "outputs": [
    {
     "data": {
      "text/plain": [
       "(17, 1001)"
      ]
     },
     "execution_count": 13,
     "metadata": {},
     "output_type": "execute_result"
    }
   ],
   "source": [
    "env._n_clips, env._clip_length"
   ]
  },
  {
   "cell_type": "code",
   "execution_count": null,
   "metadata": {},
   "outputs": [],
   "source": [
    "rollout_data = {'clip{:02d}'.format(n): {} for n in range(env._n_clips)}\n",
    "for n in range(env._n_clips):\n",
    "    # reset_rng, act_rng = jax.random.split(policy_params_fn_key)\n",
    "    rng = jax.random.PRNGKey(0)\n",
    "    reset_rng, act_rng = jax.random.split(rng)\n",
    "    state = jit_reset(reset_rng)\n",
    "    state.info['clip_idx'] = n\n",
    "    print(state.info['clip_idx'])\n",
    "\n",
    "    rollout = [state]\n",
    "    # rollout_len = env_args[\"clip_length\"]*int(rollout_env._steps_for_cur_frame)\n",
    "    rollout_len = env._clip_length\n",
    "    ctrl_all = []\n",
    "    for i in range(rollout_len):\n",
    "        _, act_rng = jax.random.split(act_rng)\n",
    "        obs = state.obs\n",
    "        ctrl, extras = jit_inference_fn(obs, act_rng)\n",
    "        state = jit_step(state, ctrl)\n",
    "        ctrl_all.append(ctrl.copy())\n",
    "        rollout.append(state)\n",
    "    rollout2 = [state.pipeline_state for state in rollout]\n",
    "    rollout_data['clip{:02d}'.format(n)]['qposes'] = jp.stack([state.qpos for state in rollout2])\n",
    "    rollout_data['clip{:02d}'.format(n)]['qvels'] = jp.stack([state.qvel for state in rollout2])\n",
    "    rollout_data['clip{:02d}'.format(n)]['ctrl'] = jp.stack(ctrl_all)\n",
    "    # rollout_data['clip{:02d}'.format(n)]['sensordata'] = jp.stack([state.sensordata for state in rollout2])\n",
    "    "
   ]
  },
  {
   "cell_type": "code",
   "execution_count": null,
   "metadata": {},
   "outputs": [],
   "source": [
    "scene_option = mujoco.MjvOption()\n",
    "scene_option.flags[mujoco.mjtVisFlag.mjVIS_TRANSPARENT] = False\n",
    "scene_option.flags[mujoco.mjtVisFlag.mjVIS_CONTACTPOINT] = True\n",
    "scene_option.flags[mujoco.mjtVisFlag.mjVIS_CONTACTFORCE] = True\n",
    "\n",
    "pixels = rollout_env.render(rollout2, camera='track1', width=480, height=480, scene_option=scene_option)\n",
    "media.show_video(pixels,fps=50)"
   ]
  },
  {
   "cell_type": "code",
   "execution_count": 21,
   "metadata": {},
   "outputs": [],
   "source": [
    "# stacked_data = {}\n",
    "# for key2 in rollout_data['clip00'].keys():\n",
    "#     stacked_data[key2] = np.stack([rollout_data['clip{:02d}'.format(n)][key2] for n in range(env._n_clips)])\n",
    "# ioh5.save('/data/users/eabe/biomech_model/Flybody/datasets/Tuthill_data/amp_control_clip.h5', amp_data)\n",
    "ioh5.save('/data/users/eabe/biomech_model/Flybody/datasets/Tuthill_data/Torque_control_multiclip.h5', policy_data)\n"
   ]
  },
  {
   "cell_type": "code",
   "execution_count": 14,
   "metadata": {},
   "outputs": [],
   "source": [
    "policy_data = ioh5.load('/data/users/eabe/biomech_model/Flybody/datasets/Tuthill_data/Torque_control_multiclip.h5')\n",
    "amp_data = ioh5.load('/data/users/eabe/biomech_model/Flybody/datasets/Tuthill_data/amp_control_clip.h5')\n",
    "\n",
    "# ref_data = ioh5.load('/data/users/eabe/biomech_model/Flybody/datasets/Tuthill_data/ref_multiclip_qpos.h5')"
   ]
  },
  {
   "cell_type": "code",
   "execution_count": 22,
   "metadata": {},
   "outputs": [
    {
     "data": {
      "text/plain": [
       "(dict_keys(['ctrl', 'qposes', 'qvels', 'sensordata']), (17, 1001, 18))"
      ]
     },
     "execution_count": 22,
     "metadata": {},
     "output_type": "execute_result"
    }
   ],
   "source": [
    "amp_data.keys(), policy_data.keys()"
   ]
  },
  {
   "cell_type": "code",
   "execution_count": 134,
   "metadata": {},
   "outputs": [
    {
     "ename": "IndexError",
     "evalue": "index 2 is out of bounds for axis 0 with size 1",
     "output_type": "error",
     "traceback": [
      "\u001b[0;31m---------------------------------------------------------------------------\u001b[0m",
      "\u001b[0;31mIndexError\u001b[0m                                Traceback (most recent call last)",
      "Cell \u001b[0;32mIn[134], line 23\u001b[0m\n\u001b[1;32m     21\u001b[0m \u001b[38;5;28;01mfor\u001b[39;00m n \u001b[38;5;129;01min\u001b[39;00m \u001b[38;5;28mrange\u001b[39m(\u001b[38;5;28mlen\u001b[39m(end_eff)):\n\u001b[1;32m     22\u001b[0m     ax \u001b[38;5;241m=\u001b[39m axs[n]\n\u001b[0;32m---> 23\u001b[0m     ax\u001b[38;5;241m.\u001b[39mplot(\u001b[43msdata\u001b[49m\u001b[43m[\u001b[49m\u001b[43mclip_idx\u001b[49m\u001b[43m,\u001b[49m\u001b[43mt\u001b[49m\u001b[43m:\u001b[49m\u001b[43mt\u001b[49m\u001b[38;5;241;43m+\u001b[39;49m\u001b[43mdt\u001b[49m\u001b[43m,\u001b[49m\u001b[43mn\u001b[49m\u001b[43m,\u001b[49m\u001b[38;5;241;43m0\u001b[39;49m\u001b[43m]\u001b[49m, label\u001b[38;5;241m=\u001b[39m\u001b[38;5;124m'\u001b[39m\u001b[38;5;124mx\u001b[39m\u001b[38;5;124m'\u001b[39m)\n\u001b[1;32m     24\u001b[0m     ax\u001b[38;5;241m.\u001b[39mplot(sdata[clip_idx,t:t\u001b[38;5;241m+\u001b[39mdt,n,\u001b[38;5;241m1\u001b[39m], label\u001b[38;5;241m=\u001b[39m\u001b[38;5;124m'\u001b[39m\u001b[38;5;124my\u001b[39m\u001b[38;5;124m'\u001b[39m)\n\u001b[1;32m     25\u001b[0m     ax\u001b[38;5;241m.\u001b[39mplot(sdata[clip_idx,t:t\u001b[38;5;241m+\u001b[39mdt,n,\u001b[38;5;241m2\u001b[39m], label\u001b[38;5;241m=\u001b[39m\u001b[38;5;124m'\u001b[39m\u001b[38;5;124mz\u001b[39m\u001b[38;5;124m'\u001b[39m)\n",
      "\u001b[0;31mIndexError\u001b[0m: index 2 is out of bounds for axis 0 with size 1"
     ]
    },
    {
     "data": {
      "image/png": "[encoded data removed]",
      "text/plain": [
       "<Figure size 1000x1000 with 6 Axes>"
      ]
     },
     "metadata": {},
     "output_type": "display_data"
    }
   ],
   "source": [
    "N = 1\n",
    "nclips = amp_data['sensordata'].shape[0]\n",
    "sensordata = amp_data['sensordata'].reshape(nclips,amp_data['sensordata'].shape[1],-1,3)\n",
    "sdata = 1e-8*sensordata\n",
    "# sdata = 1e-8*(np.stack(sensordata).reshape(nclips,sensordata.shape[1],-1,3)) # Time x end_eff x xyz, x=forward\n",
    "sdata = np.apply_along_axis(lambda m: np.convolve(m, np.ones(N)/N, mode='full'), axis=1, arr=sdata)\n",
    "end_eff = [\n",
    "# 'claw_T1_left',\n",
    "'claw_T1_right',\n",
    "'claw_T2_left',\n",
    "'claw_T2_right',\n",
    "'claw_T3_left',\n",
    "'claw_T3_right',\n",
    "]\n",
    "\n",
    "clip_idx = 2\n",
    "t=500\n",
    "dt=10000\n",
    "fig, axs = plt.subplots(3, 2, figsize=(10, 10), sharey=True)\n",
    "axs = axs.flatten()\n",
    "for n in range(len(end_eff)):\n",
    "    ax = axs[n]\n",
    "    ax.plot(sdata[clip_idx,t:t+dt,n,0], label='x')\n",
    "    ax.plot(sdata[clip_idx,t:t+dt,n,1], label='y')\n",
    "    ax.plot(sdata[clip_idx,t:t+dt,n,2], label='z')\n",
    "    ax.set_title(end_eff[n])\n",
    "    ax.set_xlabel('timesteps')\n",
    "    ax.set_ylabel('force (N)')\n",
    "axs[0].legend()\n",
    "plt.tight_layout()\n",
    "# fig.savefig(fig_dir/'claw_force.png', dpi=300)"
   ]
  },
  {
   "cell_type": "code",
   "execution_count": 30,
   "metadata": {},
   "outputs": [],
   "source": [
    "\n",
    "def find_onsets_offsets(signal, threshold=0.5):\n",
    "    \"\"\"\n",
    "    Finds the onsets and offsets of a square signal.\n",
    "\n",
    "    Args:\n",
    "        signal: The input signal (numpy array).\n",
    "        threshold: The threshold for determining onsets and offsets (default: 0.5).\n",
    "\n",
    "    Returns:\n",
    "        onsets: A list of indices corresponding to the onsets.\n",
    "        offsets: A list of indices corresponding to the offsets.\n",
    "    \"\"\"\n",
    "\n",
    "    onsets = []\n",
    "    offsets = []\n",
    "\n",
    "    state = 0  # 0: low, 1: high\n",
    "\n",
    "    for i, value in enumerate(signal):\n",
    "        if state == 0 and value > threshold:\n",
    "            onsets.append(i)\n",
    "            state = 1\n",
    "        elif state == 1 and value < threshold:\n",
    "            offsets.append(i)\n",
    "            state = 0\n",
    "\n",
    "    return onsets, offsets\n"
   ]
  },
  {
   "cell_type": "code",
   "execution_count": 71,
   "metadata": {},
   "outputs": [
    {
     "data": {
      "text/plain": [
       "dict_keys(['ctrl', 'qposes', 'qvels'])"
      ]
     },
     "execution_count": 71,
     "metadata": {},
     "output_type": "execute_result"
    }
   ],
   "source": [
    "policy_data.keys()\n"
   ]
  },
  {
   "cell_type": "code",
   "execution_count": 139,
   "metadata": {},
   "outputs": [
    {
     "data": {
      "text/plain": [
       "((1, 1500, 5, 3), (17, 1001, 6, 3))"
      ]
     },
     "execution_count": 139,
     "metadata": {},
     "output_type": "execute_result"
    }
   ],
   "source": [
    "\n",
    "amp_force = amp_data['sensordata'].reshape(1,amp_data['sensordata'].shape[1],-1,3)\n",
    "ctrl_force = policy_data['sensordata'].reshape(17,policy_data['sensordata'].shape[1],-1,3)\n",
    "\n",
    "amp_force = np.array(amp_force)\n",
    "ctrl_force = np.array(ctrl_force)\n",
    "\n",
    "amp_force[np.abs(amp_force)<1e-4]=0\n",
    "amp_force_clip = amp_force.copy()\n",
    "ctrl_force[np.abs(ctrl_force)<1e-4]=0\n",
    "ctrl_force_clip = ctrl_force.copy()\n",
    "amp_force_clip.shape, ctrl_force_clip.shape # nclips x timesteps x end_eff x xyz"
   ]
  },
  {
   "cell_type": "code",
   "execution_count": 140,
   "metadata": {},
   "outputs": [],
   "source": [
    "N = 10\n",
    "amp_smooth = np.apply_along_axis(lambda m: np.convolve(m, np.ones(N)/N, mode='full'), axis=1, arr=amp_force_clip)\n",
    "amp_binary = np.zeros_like(amp_smooth)\n",
    "amp_binary[np.abs(amp_smooth)>0.01] = 1\n",
    "ctrl_smooth = np.apply_along_axis(lambda m: np.convolve(m, np.ones(N)/N, mode='full'), axis=1, arr=ctrl_force_clip)\n",
    "ctrl_binary = np.zeros_like(ctrl_smooth)\n",
    "ctrl_binary[np.abs(ctrl_smooth)>0.01] = 1"
   ]
  },
  {
   "cell_type": "code",
   "execution_count": 141,
   "metadata": {},
   "outputs": [],
   "source": [
    "\n",
    "def calculate_peakforces(sdata_binary,sdata):\n",
    "    onsets_all,offsets_all = [],[]\n",
    "    for clip_idx in range(sdata_binary.shape[0]):\n",
    "        clip_onsets, clip_offsets = [],[]\n",
    "        for end_eff_idx in range(sdata_binary.shape[2]):\n",
    "            dim_onsets, dim_offsets = [],[]\n",
    "            for dim in range(sdata_binary.shape[3]):\n",
    "                onsets, offsets = find_onsets_offsets(sdata_binary[clip_idx,:,end_eff_idx,dim])\n",
    "                dim_onsets.append(onsets)\n",
    "                dim_offsets.append(offsets)\n",
    "            clip_onsets.append(dim_onsets)\n",
    "            clip_offsets.append(dim_offsets)\n",
    "        onsets_all.append(clip_onsets)\n",
    "        offsets_all.append(clip_offsets)\n",
    "        \n",
    "    sdata_square = np.zeros_like(sdata)\n",
    "    sdata_square.shape\n",
    "    peak_force_all,peak_force_all_std = [],[]\n",
    "    for clip_idx,(clip_onsets,clip_offsets) in enumerate(zip(onsets_all,offsets_all)):\n",
    "        peak_force_end_eff,peak_force_end_eff_std = [],[]\n",
    "        for end_eff_idx,(end_eff_onsets,end_eff_offsets) in enumerate(zip(clip_onsets,clip_offsets)):\n",
    "            peak_force_dim, peak_force_std = [], []\n",
    "            for dim,(dim_on,dim_off) in enumerate(zip(end_eff_onsets,end_eff_offsets)):\n",
    "                peak_force = []\n",
    "                for on,off in zip(dim_on,dim_off):\n",
    "                    if off-on<10:\n",
    "                        # print(on,off)\n",
    "                        continue\n",
    "                    else:\n",
    "                        sign = np.sign(np.mean(sdata[clip_idx,on:off,end_eff_idx,dim]))\n",
    "                        sdata_square[clip_idx,on:off,end_eff_idx,dim] = sign * np.max(np.abs(sdata[clip_idx,on:off,end_eff_idx,dim]))\n",
    "                        peak_force.append(np.max(np.abs(sdata[clip_idx,on:off,end_eff_idx,dim])))\n",
    "                peak_force_dim.append(np.nanmean(peak_force))\n",
    "                peak_force_std.append(np.nanstd(peak_force))\n",
    "            peak_force_end_eff.append(peak_force_dim)\n",
    "            peak_force_end_eff_std.append(peak_force_std)\n",
    "        peak_force_all.append(peak_force_end_eff)\n",
    "        peak_force_all_std.append(peak_force_end_eff_std)\n",
    "    peak_force_all = np.stack(peak_force_all)\n",
    "    peak_force_all_std = np.stack(peak_force_all_std)\n",
    "    return peak_force_all, peak_force_all_std, sdata_square"
   ]
  },
  {
   "cell_type": "code",
   "execution_count": null,
   "metadata": {},
   "outputs": [],
   "source": []
  },
  {
   "cell_type": "code",
   "execution_count": 142,
   "metadata": {},
   "outputs": [
    {
     "name": "stderr",
     "output_type": "stream",
     "text": [
      "/tmp/ipykernel_562373/3225670209.py:33: RuntimeWarning: Mean of empty slice\n",
      "  peak_force_dim.append(np.nanmean(peak_force))\n"
     ]
    },
    {
     "data": {
      "text/plain": [
       "((5, 3), (6, 3))"
      ]
     },
     "execution_count": 142,
     "metadata": {},
     "output_type": "execute_result"
    }
   ],
   "source": [
    "peak_force_amp,peak_force_amp_std, amp_square = calculate_peakforces(amp_binary,amp_force_clip)\n",
    "peak_force_ctrl,peak_force_ctrl_std, ctrl_square = calculate_peakforces(ctrl_binary,ctrl_force_clip)\n",
    "amp_mean_peak_force = np.nanmean(peak_force_amp,axis=0)\n",
    "amp_std_peak_force = np.nanstd(peak_force_amp_std,axis=(0))\n",
    "ctrl_mean_peak_force = np.nanmean(peak_force_ctrl,axis=0)\n",
    "ctrl_std_peak_force = np.nanstd(peak_force_ctrl_std,axis=(0))\n",
    "amp_std_peak_force.shape,ctrl_std_peak_force.shape"
   ]
  },
  {
   "cell_type": "code",
   "execution_count": 145,
   "metadata": {},
   "outputs": [],
   "source": [
    "end_eff_ctrl = [\n",
    "'claw_T1_left',\n",
    "'claw_T1_right',\n",
    "'claw_T2_left',\n",
    "'claw_T2_right',\n",
    "'claw_T3_left',\n",
    "'claw_T3_right',\n",
    "]\n",
    "end_eff_amp = [\n",
    "'claw_T1_right',\n",
    "'claw_T2_left',\n",
    "'claw_T2_right',\n",
    "'claw_T3_left',\n",
    "'claw_T3_right',\n",
    "]"
   ]
  },
  {
   "cell_type": "code",
   "execution_count": 147,
   "metadata": {},
   "outputs": [
    {
     "data": {
      "text/plain": [
       "array([0.35113541, 0.41394056, 0.88874276])"
      ]
     },
     "execution_count": 147,
     "metadata": {},
     "output_type": "execute_result"
    }
   ],
   "source": [
    "\n",
    "ctrl_mean_peak_force[end_eff_idx+1,:]"
   ]
  },
  {
   "cell_type": "code",
   "execution_count": 173,
   "metadata": {},
   "outputs": [
    {
     "data": {
      "image/png": "[encoded data removed]",
      "text/plain": [
       "<Figure size 600x600 with 6 Axes>"
      ]
     },
     "metadata": {},
     "output_type": "display_data"
    }
   ],
   "source": [
    "fontsize=12\n",
    "end_eff_idx = 0\n",
    "fig, axs = plt.subplots(3,2,figsize=(6,6))\n",
    "axs = axs.flatten()\n",
    "for end_eff_idx in range(len(end_eff_amp)):\n",
    "    ax = axs[end_eff_idx+1]\n",
    "    ax.bar(x=np.array([1,2,3]), height = 10*ctrl_mean_peak_force[end_eff_idx+1,:],width=0.25, yerr=10*ctrl_std_peak_force[end_eff_idx+1,:], color='r')\n",
    "    ax.bar(x=np.array([1.25,2.25,3.25]), height = 10*amp_mean_peak_force[end_eff_idx,:],width=0.25, yerr=10*amp_std_peak_force[end_eff_idx,:], color='b')\n",
    "    ax.set_xticks([1,2,3])\n",
    "    ax.set_yticks([0,10,20,30])\n",
    "    ax.set_xticklabels(['x','y','z'])\n",
    "    ax.set_ylabel(f'{end_eff_amp[end_eff_idx]} \\n peak force (nN)')\n",
    "# ax.set_title(f'Peak force for {end_eff[end_eff_idx+1]}')\n",
    "ax.legend(['Ctrl','Amp'],frameon=False,fontsize=fontsize,loc='upper right',bbox_to_anchor=(.6,1.0),labelcolor='linecolor',handlelength=0,handleheight=0,ncols=1,columnspacing=.1)\n",
    "fig.tight_layout()\n",
    "# fig.savefig(fig_dir/f'peak_force_comparison.svg', dpi=300)"
   ]
  },
  {
   "cell_type": "code",
   "execution_count": 153,
   "metadata": {},
   "outputs": [
    {
     "data": {
      "text/plain": [
       "[<matplotlib.lines.Line2D at 0x7a508212b0d0>]"
      ]
     },
     "execution_count": 153,
     "metadata": {},
     "output_type": "execute_result"
    },
    {
     "data": {
      "image/png": "[encoded data removed]",
      "text/plain": [
       "<Figure size 640x480 with 1 Axes>"
      ]
     },
     "metadata": {},
     "output_type": "display_data"
    }
   ],
   "source": [
    "clip_idx = 10\n",
    "end_eff_idx = 3\n",
    "dim = 1\n",
    "plt.plot(ctrl_force_clip[clip_idx,:,end_eff_idx,dim])\n",
    "plt.plot(ctrl_smooth[clip_idx,:,end_eff_idx,dim])\n",
    "plt.plot(ctrl_binary[clip_idx,:,end_eff_idx,dim])\n",
    "plt.plot(ctrl_square[clip_idx,:,end_eff_idx,dim])"
   ]
  },
  {
   "cell_type": "code",
   "execution_count": 33,
   "metadata": {},
   "outputs": [],
   "source": [
    "# ref_data = {'clip{:02d}'.format(n): {} for n in range(env._n_clips)}\n",
    "# for n in range(env._n_clips):\n",
    "#     rollout[0].info['clip_idx'] = n\n",
    "#     ref_traj = env._get_reference_clip(rollout[0].info)\n",
    "\n",
    "#     ref_data['clip{:02d}'.format(n)]['qpos'] = np.hstack([ref_traj.position, ref_traj.quaternion, ref_traj.joints])\n",
    "# ioh5.save('/data/users/eabe/biomech_model/Flybody/datasets/Tuthill_data/ref_multiclip_qpos.h5',ref_data)"
   ]
  },
  {
   "cell_type": "code",
   "execution_count": null,
   "metadata": {},
   "outputs": [],
   "source": []
  },
  {
   "cell_type": "code",
   "execution_count": null,
   "metadata": {},
   "outputs": [],
   "source": [
    "qposes_rollout = np.array([state.pipeline_state.qpos for state in rollout])\n",
    "\n",
    "ref_traj = env._get_reference_clip(rollout[0].info)\n",
    "print(f\"clip_id:{rollout[0].info}\")\n",
    "qposes_ref = np.repeat(\n",
    "    np.hstack([ref_traj.position, ref_traj.quaternion, ref_traj.joints]),\n",
    "    env._steps_for_cur_frame,\n",
    "    axis=0,\n",
    ")\n",
    "spec = mujoco.MjSpec()\n",
    "spec = spec.from_file(cfg.dataset.rendering_mjcf)\n",
    "mj_model = spec.compile()\n",
    "print(cfg.dataset.rendering_mjcf)\n",
    "mj_model.opt.solver = {\n",
    "    \"cg\": mujoco.mjtSolver.mjSOL_CG,\n",
    "    \"newton\": mujoco.mjtSolver.mjSOL_NEWTON,\n",
    "}[\"cg\"]\n",
    "mj_model.opt.iterations = cfg.dataset.env_args.iterations\n",
    "mj_model.opt.ls_iterations = cfg.dataset.env_args.ls_iterations\n",
    "mj_model.opt.timestep = env.sys.mj_model.opt.timestep\n",
    "\n",
    "mj_data = mujoco.MjData(mj_model)\n",
    "site_id = [\n",
    "    mj_model.site(i).id\n",
    "    for i in range(mj_model.nsite)\n",
    "    if \"-0\" in mj_model.site(i).name\n",
    "]\n",
    "for id in site_id:\n",
    "    mj_model.site(id).rgba = [1, 0, 0, 1]\n",
    "\n",
    "scene_option = mujoco.MjvOption()\n",
    "scene_option.sitegroup[:] = [1, 1, 1, 1, 1, 0]\n",
    "scene_option.flags[mujoco.mjtVisFlag.mjVIS_CONTACTPOINT] = True\n",
    "scene_option.flags[mujoco.mjtVisFlag.mjVIS_CONTACTFORCE] = True\n",
    "\n",
    "# save rendering and log to wandb\n",
    "os.environ[\"MUJOCO_GL\"] = \"osmesa\"\n",
    "mujoco.mj_kinematics(mj_model, mj_data)\n",
    "# renderer = mujoco.Renderer(mj_model, height=512, width=512)\n",
    "\n",
    "frames = []\n",
    "# render while stepping using mujoco\n",
    "with mujoco.Renderer(mj_model, height=480, width=480) as renderer:\n",
    "    for qpos1, qpos2 in zip(qposes_rollout, qposes_ref):\n",
    "        mj_data.qpos = np.append(qpos1, qpos2)\n",
    "        mujoco.mj_forward(mj_model, mj_data)\n",
    "        renderer.update_scene(mj_data, camera=1, scene_option=scene_option)\n",
    "        pixels = renderer.render()\n",
    "        frames.append(pixels)"
   ]
  },
  {
   "cell_type": "code",
   "execution_count": null,
   "metadata": {},
   "outputs": [],
   "source": [
    "media.show_video(frames,fps=50)"
   ]
  },
  {
   "cell_type": "code",
   "execution_count": null,
   "metadata": {},
   "outputs": [],
   "source": [
    "1/300 *601"
   ]
  },
  {
   "cell_type": "code",
   "execution_count": 101,
   "metadata": {},
   "outputs": [
    {
     "data": {
      "text/plain": [
       "(17, 1001, 18)"
      ]
     },
     "execution_count": 101,
     "metadata": {},
     "output_type": "execute_result"
    }
   ],
   "source": [
    "qposes_rollout = policy_data['qposes']\n",
    "qposes_ref = ref_data\n",
    "ground_force = policy_data['sensordata']\n",
    "ground_force.shape"
   ]
  },
  {
   "cell_type": "code",
   "execution_count": 96,
   "metadata": {},
   "outputs": [
    {
     "name": "stdout",
     "output_type": "stream",
     "text": [
      "0: coxa_flexion_T1_left\n",
      "1: coxa_twist_T1_left\n",
      "2: femur_twist_T1_left\n",
      "3: femur_T1_left\n",
      "4: tibia_T1_left\n",
      "5: tarsus_T1_left\n",
      "6: coxa_flexion_T1_right\n",
      "7: coxa_twist_T1_right\n",
      "8: femur_twist_T1_right\n",
      "9: femur_T1_right\n",
      "10: tibia_T1_right\n",
      "11: tarsus_T1_right\n",
      "12: coxa_flexion_T2_left\n",
      "13: coxa_twist_T2_left\n",
      "14: femur_twist_T2_left\n",
      "15: femur_T2_left\n",
      "16: tibia_T2_left\n",
      "17: tarsus_T2_left\n",
      "18: coxa_flexion_T2_right\n",
      "19: coxa_twist_T2_right\n",
      "20: femur_twist_T2_right\n",
      "21: femur_T2_right\n",
      "22: tibia_T2_right\n",
      "23: tarsus_T2_right\n",
      "24: coxa_flexion_T3_left\n",
      "25: coxa_twist_T3_left\n",
      "26: femur_twist_T3_left\n",
      "27: femur_T3_left\n",
      "28: tibia_T3_left\n",
      "29: tarsus_T3_left\n",
      "30: coxa_flexion_T3_right\n",
      "31: coxa_twist_T3_right\n",
      "32: femur_twist_T3_right\n",
      "33: femur_T3_right\n",
      "34: tibia_T3_right\n",
      "35: tarsus_T3_right\n"
     ]
    }
   ],
   "source": [
    "joint_idxs = env._joint_idxs\n",
    "joint_names = cfg.dataset.env_args.joint_names\n",
    "\n",
    "for n, joint in enumerate(joint_names):\n",
    "   print(f'{n}: {joint}')"
   ]
  },
  {
   "cell_type": "code",
   "execution_count": 172,
   "metadata": {},
   "outputs": [
    {
     "data": {
      "image/png": "[encoded data removed]",
      "text/plain": [
       "<Figure size 500x400 with 2 Axes>"
      ]
     },
     "metadata": {},
     "output_type": "display_data"
    }
   ],
   "source": [
    "clip_idx = 0\n",
    "joints_policy = qposes_rollout[clip_idx,:, joint_idxs].T\n",
    "joints_ref = qposes_ref[clip_idx,:, joint_idxs].T\n",
    "ground_force_clip = ground_force[clip_idx,:, 0].T\n",
    "fontsize = 12\n",
    "fig, axs = plt.subplots(2, 1, figsize=(5, 4))\n",
    "# for i in range(joints_policy.shape[1]):\n",
    "i = 9\n",
    "ax = axs[0]\n",
    "ax.plot(np.linspace(0,2,joints_ref.shape[0]),np.rad2deg(joints_ref[:, i]),c='k', label=f'Data', lw=2)\n",
    "ax.plot(np.linspace(0,2,joints_policy.shape[0]),np.rad2deg(joints_policy[:, i]),c='r', label=f'Policy',lw=1)\n",
    "ax.legend(frameon=False,fontsize=fontsize,loc='upper right',bbox_to_anchor=(.9,1.3),labelcolor='linecolor',handlelength=0,handleheight=0,ncols=2,columnspacing=.1)\n",
    "ax.set_yticks([0,20,40])\n",
    "ax.set_xticks([0,1,2])\n",
    "ax.set_xlabel('time (s)')\n",
    "ax.set_ylabel('R1 femur-tibia \\n angle (deg)')\n",
    "# ax.set_title(f'{joint_names[i]}')\n",
    "# i=12\n",
    "N=1\n",
    "ctrl_force = policy_data['sensordata'].reshape(17,policy_data['sensordata'].shape[1],-1,3)\n",
    "ctrl_force = np.array(ctrl_force)\n",
    "ctrl_smooth = np.apply_along_axis(lambda m: np.convolve(m, np.ones(N)/N, mode='full'), axis=1, arr=ctrl_force)\n",
    "amp_force = amp_data['sensordata'].reshape(1,amp_data['sensordata'].shape[1],-1,3)\n",
    "amp_force = np.array(amp_force)\n",
    "amp_smooth = np.apply_along_axis(lambda m: np.convolve(m, np.ones(N)/N, mode='full'), axis=1, arr=amp_force)\n",
    "\n",
    "ax = axs[1]\n",
    "ax.set_xticks([0,1,2])\n",
    "ax.plot(np.linspace(0,2,ctrl_smooth.shape[1]),np.abs(10*ctrl_smooth[clip_idx,:,2,0]), label=f'ref')\n",
    "ax.plot(np.linspace(0,2,ctrl_smooth.shape[1]),np.abs(10*amp_smooth[0,:ctrl_smooth.shape[1],1,0]), label=f'ref',zorder=0)\n",
    "# ax.plot(joints_policy[:, i], label=f'policy')\n",
    "# # ax.legend()\n",
    "# ax.set_xlabel('timesteps')\n",
    "# ax.set_ylabel('joint angle (rad)')\n",
    "# ax.set_title(f'Joint: {joint_names[i]}')\n",
    "fig.tight_layout()\n",
    "# fig.savefig(fig_dir / 'joints_angles.svg', dpi=300)"
   ]
  },
  {
   "cell_type": "code",
   "execution_count": null,
   "metadata": {},
   "outputs": [],
   "source": [
    "##### amputation data plotting #####\n",
    "clip_idx = 0\n",
    "joints_policy = amp_data['qposes'][clip_idx,:, joint_idxs].T\n",
    "joints_ref = ref_data[clip_idx,:, joint_idxs].T\n",
    "ground_force_clip = ground_force[clip_idx,:, 0].T\n",
    "fontsize = 12\n",
    "fig, axs = plt.subplots(2, 1, figsize=(5, 4))\n",
    "# for i in range(joints_policy.shape[1]):\n",
    "i = 9\n",
    "ax = axs[0]\n",
    "ax.plot(np.linspace(0,2,joints_ref.shape[0]),np.rad2deg(joints_ref[:, i]),c='k', label=f'Data', lw=2)\n",
    "ax.plot(np.linspace(0,2,joints_policy.shape[0]),np.rad2deg(joints_policy[:, i]),c='r', label=f'Policy',lw=1)\n",
    "ax.legend(frameon=False,fontsize=fontsize,loc='upper right',bbox_to_anchor=(.9,1.3),labelcolor='linecolor',handlelength=0,handleheight=0,ncols=2,columnspacing=.1)\n",
    "ax.set_yticks([0,20,40])\n",
    "ax.set_xticks([0,1,2])\n",
    "ax.set_xlabel('time (s)')\n",
    "ax.set_ylabel('R1 femur-tibia \\n angle (deg)')\n",
    "# ax.set_title(f'{joint_names[i]}')\n",
    "# i=12\n",
    "N=1\n",
    "ctrl_force = policy_data['sensordata'].reshape(17,policy_data['sensordata'].shape[1],-1,3)\n",
    "ctrl_force = np.array(ctrl_force)\n",
    "ctrl_smooth = np.apply_along_axis(lambda m: np.convolve(m, np.ones(N)/N, mode='full'), axis=1, arr=ctrl_force)\n",
    "amp_force = amp_data['sensordata'].reshape(1,amp_data['sensordata'].shape[1],-1,3)\n",
    "amp_force = np.array(amp_force)\n",
    "amp_smooth = np.apply_along_axis(lambda m: np.convolve(m, np.ones(N)/N, mode='full'), axis=1, arr=amp_force)\n",
    "\n",
    "ax = axs[1]\n",
    "ax.set_xticks([0,1,2])\n",
    "ax.plot(np.linspace(0,2,ctrl_smooth.shape[1]),np.abs(10*ctrl_smooth[clip_idx,:,2,0]), label=f'ref')\n",
    "ax.plot(np.linspace(0,2,ctrl_smooth.shape[1]),np.abs(10*amp_smooth[0,:ctrl_smooth.shape[1],1,0]), label=f'ref',zorder=0)\n",
    "# ax.plot(joints_policy[:, i], label=f'policy')\n",
    "# # ax.legend()\n",
    "# ax.set_xlabel('timesteps')\n",
    "# ax.set_ylabel('joint angle (rad)')\n",
    "# ax.set_title(f'Joint: {joint_names[i]}')\n",
    "fig.tight_layout()\n",
    "# fig.savefig(fig_dir / 'joints_angles.svg', dpi=300)"
   ]
  },
  {
   "cell_type": "code",
   "execution_count": null,
   "metadata": {},
   "outputs": [],
   "source": [
    "mean_error = np.rad2deg(np.mean(np.abs(joints_ref[:joints_ref.shape[0],:] - joints_policy[:joints_ref.shape[0],:]),axis=0))\n",
    "std_error = np.std(np.rad2deg(np.abs(joints_ref[:joints_ref.shape[0],:] - joints_policy[:joints_ref.shape[0],:])),axis=0)\n",
    "fig, axs = plt.subplots(1,1,figsize=(17, 6))\n",
    "ax = axs\n",
    "xs = 1.5*np.arange(mean_error.shape[0])\n",
    "ax.errorbar(xs,mean_error,yerr=std_error,fmt='o',c='k',markersize=10,elinewidth=2,capsize=5)\n",
    "ax.set_xticks(xs)\n",
    "ax.set_xticklabels(joint_names,rotation=90, fontsize=fontsize)\n",
    "ax.set_ylabel('MAE (deg)', fontsize=fontsize)\n",
    "ax.set_yticks([0,6,12])\n",
    "ax.tick_params(axis='x', labelsize=fontsize)\n",
    "ax.tick_params(axis='y', labelsize=fontsize)\n",
    "ax.set_xlim(-.5,mean_error.shape[0]-.5)\n",
    "plt.tight_layout()\n",
    "plt.show()\n",
    "# fig.savefig(fig_dir/'mean_abs_error.svg',bbox_inches='tight',dpi=300,transparent=True)"
   ]
  },
  {
   "cell_type": "code",
   "execution_count": 16,
   "metadata": {},
   "outputs": [
    {
     "name": "stdout",
     "output_type": "stream",
     "text": [
      "0\n",
      "1\n",
      "2\n",
      "3\n",
      "4\n",
      "5\n",
      "6\n",
      "7\n",
      "8\n",
      "9\n",
      "10\n",
      "11\n",
      "12\n",
      "13\n",
      "14\n",
      "15\n",
      "16\n"
     ]
    }
   ],
   "source": [
    "# ctrl_all = jp.array(ctrl_all)\n",
    "model_path = \"/home/eabe/Research/MyRepos/Brax-Rodent-Track/assets/fruitfly/fruitfly_force_fastviz.xml\"\n",
    "# model_path = \"/home/eabe/Research/MyRepos/Brax-Rodent-Track/assets/fruitfly/fruitfly_force_fast_amp.xml\"\n",
    "spec = mujoco.MjSpec()\n",
    "spec = spec.from_file(model_path)\n",
    "thorax = spec.find_body(\"thorax\")\n",
    "first_joint = thorax.first_joint()\n",
    "# first_joint.delete()\n",
    "root = spec.compile()\n",
    "root.opt.solver = {\n",
    "    \"cg\": mujoco.mjtSolver.mjSOL_CG,\n",
    "    \"newton\": mujoco.mjtSolver.mjSOL_NEWTON,\n",
    "}[cfg.dataset.env_args.solver.lower()]\n",
    "root.opt.iterations = env_args.iterations +4\n",
    "root.opt.ls_iterations = env_args.ls_iterations +4\n",
    "root.opt.timestep = env_args.physics_timestep\n",
    "root.opt.jacobian = 0\n",
    "data = mujoco.MjData(root)\n",
    "# data.qpos = qposes_rollout[0]\n",
    "height = 512\n",
    "width = 512\n",
    "fps = 1/env.dt\n",
    "times = []\n",
    "scene_option = mujoco.MjvOption()\n",
    "scene_option.sitegroup[:] = [1, 1, 1, 1, 1, 0]\n",
    "\n",
    "scene_option.flags[mujoco.mjtVisFlag.mjVIS_CONTACTPOINT] = True\n",
    "scene_option.flags[mujoco.mjtVisFlag.mjVIS_CONTACTFORCE] = True\n",
    "sensor_data_all = []\n",
    "frames_all = []\n",
    "for clip_idx in range(env._n_clips):\n",
    "    print(clip_idx)\n",
    "    ctrl_all = policy_data['ctrl'][clip_idx,:,:].copy()\n",
    "    qposes = policy_data['qposes'][clip_idx,:,:].copy()\n",
    "    n_frames = ctrl_all.shape[0]\n",
    "    data = mujoco.MjData(root)\n",
    "    data.qpos = qposes[0]\n",
    "    mujoco.mj_forward(root, data)\n",
    "    qpos_all,rollout,ncon_all = [],[],[]\n",
    "    sensordata = []\n",
    "    frames = []\n",
    "    # with mujoco.Renderer(root, height, width) as renderer:\n",
    "    for i in range(n_frames):\n",
    "        data.ctrl = ctrl_all[i].copy()\n",
    "        data.qpos = qposes[i].copy()\n",
    "        while data.time < i/fps:\n",
    "            mujoco.mj_step(root, data)\n",
    "        sensordata.append(data.sensordata.copy())\n",
    "            # times.append(data.time)\n",
    "            # renderer.update_scene(data,camera='track1',scene_option=scene_option)\n",
    "            # frame = renderer.render()\n",
    "            # frames.append(frame)\n",
    "            \n",
    "            # qpos_all.append(data.qpos.copy())\n",
    "            # ncon_all.append(data.ncon)\n",
    "            # rollout.append(data)\n",
    "    # frames_all.append(frames)\n",
    "    sensor_data_all.append(sensordata)\n",
    "policy_data['sensordata'] = np.array(sensor_data_all)\n",
    "# media.show_video(frames, fps=50)\n"
   ]
  },
  {
   "cell_type": "code",
   "execution_count": 17,
   "metadata": {},
   "outputs": [
    {
     "data": {
      "text/plain": [
       "array([[[-3.91777859e-05,  7.21335950e-05, -2.16473727e-05, ...,\n",
       "          2.34985425e-05, -1.80823847e-04, -4.82744866e-05],\n",
       "        [-8.99861043e-05,  1.48881798e-04,  5.56594992e-05, ...,\n",
       "         -9.77602828e-05,  3.80853235e-04,  2.43918949e-04],\n",
       "        [ 1.86078526e-04, -4.63385753e-04,  1.65144590e-04, ...,\n",
       "          2.90347495e-05,  6.29664300e-04,  1.89759740e-04],\n",
       "        ...,\n",
       "        [ 5.98026337e-05,  6.29809056e-05,  4.65689181e-05, ...,\n",
       "          1.67775292e-04,  1.20747933e-04,  3.83533141e-05],\n",
       "        [ 3.77508200e-06,  6.17293354e-05,  1.73766051e-05, ...,\n",
       "          5.78788333e-05,  9.97808246e-05,  5.10746516e-05],\n",
       "        [ 4.54844785e-05,  1.22910889e-04,  1.70032407e-05, ...,\n",
       "         -3.42363082e-05,  2.33863868e-05,  3.53305058e-05]],\n",
       "\n",
       "       [[-3.91777859e-05,  7.21335950e-05, -2.16473727e-05, ...,\n",
       "          2.34985425e-05, -1.80823847e-04, -4.82744866e-05],\n",
       "        [-6.70354117e-05,  2.21243298e-04,  3.30134549e-05, ...,\n",
       "          9.16133203e-05,  3.64375521e-04,  1.90642671e-04],\n",
       "        [-3.18145156e-05,  1.46571211e-04,  4.75470748e-05, ...,\n",
       "         -4.42796131e-05,  7.24898153e-05,  1.10423499e-04],\n",
       "        ...,\n",
       "        [ 7.29823704e-05, -1.83149486e-04,  2.73851413e-05, ...,\n",
       "          4.57654101e-05,  1.98054505e-04,  7.72580248e-06],\n",
       "        [ 6.52583153e-02, -4.77919750e-01, -1.80225846e-02, ...,\n",
       "          1.00920331e-04,  1.30060946e-04,  2.11771626e-05],\n",
       "        [-6.13706331e-02, -1.53265464e-01, -2.80367763e-01, ...,\n",
       "          4.68446254e-07,  5.08188062e-05,  1.92740723e-05]],\n",
       "\n",
       "       [[-3.91777859e-05,  7.21335950e-05, -2.16473727e-05, ...,\n",
       "          2.34985425e-05, -1.80823847e-04, -4.82744866e-05],\n",
       "        [-3.28551200e-05, -6.84115544e-06,  7.34617114e-05, ...,\n",
       "          1.98871734e-05,  5.91545153e-04,  2.63404454e-04],\n",
       "        [-1.39263235e-06, -1.51270412e-05,  3.76373500e-05, ...,\n",
       "          1.46320326e-05,  1.92468853e-04,  8.66712997e-05],\n",
       "        ...,\n",
       "        [ 5.25968800e-05, -1.23952684e-04,  5.29127269e-05, ...,\n",
       "          3.37802809e-05,  3.15183608e-04,  1.03234595e-04],\n",
       "        [-1.85617085e-04,  5.05135217e-04, -6.36721904e-05, ...,\n",
       "         -3.08349803e-05, -3.95838052e-04, -2.01444155e-05],\n",
       "        [-2.06777772e-05,  3.52499634e-05,  4.56777391e-05, ...,\n",
       "          1.65720047e-05,  1.15627414e-04,  3.03106748e-05]],\n",
       "\n",
       "       ...,\n",
       "\n",
       "       [[-3.91777859e-05,  7.21335950e-05, -2.16473727e-05, ...,\n",
       "          2.34985425e-05, -1.80823847e-04, -4.82744866e-05],\n",
       "        [-8.41953933e-05, -1.75527741e-04,  2.20723281e-04, ...,\n",
       "          5.21911770e-04,  5.76593366e-04,  1.08346783e-04],\n",
       "        [ 2.15968867e-04, -4.53820592e-05,  7.61964951e-05, ...,\n",
       "         -4.81626449e-04,  3.11413157e-04,  2.17172615e-04],\n",
       "        ...,\n",
       "        [-6.08339558e-02, -2.07501527e-01, -2.60839382e-01, ...,\n",
       "          3.79781964e-05,  8.45435393e-05,  1.85048351e-05],\n",
       "        [-5.82454606e-02, -2.19137992e-01, -2.36797696e-01, ...,\n",
       "          3.55038372e-05,  8.59596855e-05,  1.81007875e-05],\n",
       "        [-7.00920730e-02, -2.20523279e-01, -2.52948210e-01, ...,\n",
       "          3.85491856e-05,  8.25982918e-05,  1.79824695e-05]],\n",
       "\n",
       "       [[-3.91777859e-05,  7.21335950e-05, -2.16473727e-05, ...,\n",
       "          2.34985425e-05, -1.80823847e-04, -4.82744866e-05],\n",
       "        [-2.67585034e-04,  4.27189792e-04,  9.92859411e-05, ...,\n",
       "          2.85710780e-04,  8.86173605e-05,  2.24140848e-04],\n",
       "        [-1.37916686e-04,  3.25673271e-04,  7.64418737e-05, ...,\n",
       "          1.19950093e-04, -2.23397293e-04, -7.33752793e-05],\n",
       "        ...,\n",
       "        [-2.90769071e-02, -1.28252456e-01, -9.35151841e-02, ...,\n",
       "          6.00362842e-05,  4.45831022e-05,  4.58818357e-05],\n",
       "        [-1.20774187e-02, -9.02446186e-02, -1.14898802e-01, ...,\n",
       "          5.56086992e-05,  4.96408274e-05,  5.72901021e-05],\n",
       "        [-5.51161483e-02, -1.01947757e-01, -1.50334352e-01, ...,\n",
       "          6.28532508e-05,  5.04754010e-05,  5.08872524e-05]],\n",
       "\n",
       "       [[-3.91777859e-05,  7.21335950e-05, -2.16473727e-05, ...,\n",
       "          2.34985425e-05, -1.80823847e-04, -4.82744866e-05],\n",
       "        [-5.36905883e-05,  1.02352022e-04,  1.06764434e-04, ...,\n",
       "          2.43160156e-04,  4.14187437e-04,  1.46819772e-04],\n",
       "        [ 5.39350562e-06, -8.00403704e-06,  6.12270606e-06, ...,\n",
       "          2.04266028e-05, -2.70161242e-05,  1.96864546e-05],\n",
       "        ...,\n",
       "        [ 4.16225060e-02, -2.14097525e-01, -2.49042330e-01, ...,\n",
       "         -4.98320417e-06,  1.87010835e-04,  3.58916639e-05],\n",
       "        [-2.96420475e-02, -1.78991683e-01, -1.39254920e-01, ...,\n",
       "          4.62528241e-05,  1.04914434e-04,  4.23076174e-05],\n",
       "        [ 4.69409006e-02, -1.98335958e-01, -2.23892705e-01, ...,\n",
       "         -9.17341330e-06,  2.23500234e-04,  4.19989068e-05]]])"
      ]
     },
     "execution_count": 17,
     "metadata": {},
     "output_type": "execute_result"
    }
   ],
   "source": [
    "# policy_data['sensordata']"
   ]
  },
  {
   "cell_type": "code",
   "execution_count": null,
   "metadata": {},
   "outputs": [],
   "source": [
    "media.show_video(frames, fps=50)"
   ]
  },
  {
   "cell_type": "code",
   "execution_count": 64,
   "metadata": {},
   "outputs": [],
   "source": [
    "sensordata = np.array(amp_data['sensordata'])\n",
    "sensordata= sensordata.reshape(1,sensordata.shape[1],-1,3)"
   ]
  },
  {
   "cell_type": "code",
   "execution_count": 66,
   "metadata": {},
   "outputs": [
    {
     "data": {
      "text/plain": [
       "[<matplotlib.lines.Line2D at 0x754b38be0450>]"
      ]
     },
     "execution_count": 66,
     "metadata": {},
     "output_type": "execute_result"
    },
    {
     "data": {
      "image/png": "[encoded data removed]",
      "text/plain": [
       "<Figure size 640x480 with 1 Axes>"
      ]
     },
     "metadata": {},
     "output_type": "display_data"
    }
   ],
   "source": [
    "plt.plot(sensordata[0,:,1,2])\n",
    "# plt.plot(sensordata[:,1,0])"
   ]
  },
  {
   "cell_type": "code",
   "execution_count": 8,
   "metadata": {},
   "outputs": [],
   "source": [
    "ref_multiclip = ioh5.load('/data/users/eabe/biomech_model/Flybody/datasets/Tuthill_data/ref_multiclip_qpos.h5')\n",
    "torque_multiclip = ioh5.load('/data/users/eabe/biomech_model/Flybody/datasets/Tuthill_data/Torque_control_multiclip.h5')"
   ]
  },
  {
   "cell_type": "code",
   "execution_count": 24,
   "metadata": {},
   "outputs": [],
   "source": [
    "all_sensor = np.stack([torque_multiclip[f'clip{n:02d}']['sensordata'] for n in range(env._n_clips)]).reshape(env._n_clips,1000,-1,3)"
   ]
  },
  {
   "cell_type": "code",
   "execution_count": 17,
   "metadata": {},
   "outputs": [],
   "source": [
    "# 1 (mg cm) / (s^2) = 1.0 × 10-8 newtons"
   ]
  },
  {
   "cell_type": "code",
   "execution_count": 20,
   "metadata": {},
   "outputs": [],
   "source": [
    "# sensordata = [state.pipeline_state.sensordata for state in rollout]"
   ]
  },
  {
   "cell_type": "code",
   "execution_count": 14,
   "metadata": {},
   "outputs": [],
   "source": []
  },
  {
   "cell_type": "code",
   "execution_count": null,
   "metadata": {},
   "outputs": [],
   "source": [
    "N = 5\n",
    "# sensordata = [state.pipeline_state.sensordata for state in rollout]\n",
    "sdata = 1e-8*(np.stack(sensordata)[:,:-6].reshape(-1,6,3)) # Time x end_eff x xyz, x=forward\n",
    "sdata = np.apply_along_axis(lambda m: np.convolve(m, np.ones(N)/N, mode='full'), axis=0, arr=sdata)\n",
    "end_eff = [\n",
    "'claw_T1_left',\n",
    "'claw_T1_right',\n",
    "'claw_T2_left',\n",
    "'claw_T2_right',\n",
    "'claw_T3_left',\n",
    "'claw_T3_right',\n",
    "]\n",
    "fig, axs = plt.subplots(3, 2, figsize=(10, 10), sharey=True)\n",
    "axs = axs.flatten()\n",
    "t = 0\n",
    "dt = 10000\n",
    "for n in range(len(end_eff)):\n",
    "    ax = axs[n]\n",
    "    ax.plot(sdata[t:t+dt,n,0], label='x')\n",
    "    ax.plot(sdata[t:t+dt,n,1], label='y')\n",
    "    ax.plot(sdata[t:t+dt,n,2], label='z')\n",
    "    ax.set_title(end_eff[n])\n",
    "    ax.set_xlabel('timesteps')\n",
    "    ax.set_ylabel('force (N)')\n",
    "axs[0].legend()\n",
    "plt.tight_layout()\n",
    "# fig.savefig(fig_dir/'claw_force.png', dpi=300)"
   ]
  },
  {
   "cell_type": "code",
   "execution_count": null,
   "metadata": {},
   "outputs": [],
   "source": []
  },
  {
   "cell_type": "code",
   "execution_count": null,
   "metadata": {},
   "outputs": [],
   "source": [
    "N = 50\n",
    "sdata = 1e-8*(np.stack(sensordata).reshape(-1,6,3)) # Time x end_eff x xyz, x=forward\n",
    "sdata = np.apply_along_axis(lambda m: np.convolve(m, np.ones(N)/N, mode='full'), axis=0, arr=sdata)\n",
    "\n",
    "fig, axs = plt.subplots(3, 2, figsize=(10, 10), sharey=True)\n",
    "axs = axs.flatten()\n",
    "for n in range(len(end_eff)):\n",
    "    ax = axs[n]\n",
    "    ax.plot(sdata[:,n,0])\n",
    "    ax.plot(sdata[:,n,1])\n",
    "    ax.plot(sdata[:,n,2])\n",
    "# plt.plot(sdata[:,:,2])"
   ]
  },
  {
   "cell_type": "code",
   "execution_count": 28,
   "metadata": {},
   "outputs": [],
   "source": []
  },
  {
   "cell_type": "code",
   "execution_count": null,
   "metadata": {},
   "outputs": [],
   "source": [
    "import pandas as pd\n",
    "fictrac_data = pd.read_csv('/data/users/eabe/biomech_model/Flybody/datasets/Tuthill_data/Amputation/09302024_fly2_0_R1C1_fictrac.csv')"
   ]
  },
  {
   "cell_type": "code",
   "execution_count": null,
   "metadata": {},
   "outputs": [],
   "source": [
    "fictrac_y_mm = (fictrac_data['fictrac_int_y_mm']/10).values\n",
    "fictrac_x_mm = (fictrac_data['fictrac_int_x_mm']/10).values\n",
    "fictrac_forward_mm = (fictrac_data['fictrac_int_forward_mm']/10).values"
   ]
  },
  {
   "cell_type": "code",
   "execution_count": 142,
   "metadata": {},
   "outputs": [],
   "source": [
    "\n",
    "data_path = '/data/users/eabe/biomech_model/Flybody/datasets/Tuthill_data/Amputation/Fruitfly_fit_amp2.p'\n",
    "with open(data_path, \"rb\") as file:\n",
    "    d = pickle.load(file)\n",
    "    qposes = np.array(d[\"qpos\"])\n",
    "    kp_data = np.array(d[\"kp_data\"])\n",
    "    kp_names = d[\"kp_names\"]\n",
    "    offsets = d[\"offsets\"]\n",
    "qposes = jp.array(qposes)"
   ]
  },
  {
   "cell_type": "code",
   "execution_count": null,
   "metadata": {},
   "outputs": [],
   "source": []
  },
  {
   "cell_type": "code",
   "execution_count": 143,
   "metadata": {},
   "outputs": [],
   "source": [
    "qpos_all = []\n",
    "# for n in range(fictrac_y_mm.shape[0]):\n",
    "dpos = jp.zeros((fictrac_y_mm.shape[0],3))\n",
    "dpos = dpos.at[1:,0].set(jp.cumsum(jp.diff(fictrac_y_mm)))\n",
    "# dpos = dpos.at[1:,0].set(jp.cumsum(jp.diff(fictrac_x_mm)))\n",
    "qposes = qposes.at[:,:3].set(qposes[:,:3]+dpos)\n",
    "qposes = qposes.at[:,3].set(11*np.pi/6)\n",
    "qposes = qposes.at[:,4].set(0)\n",
    "qposes = qposes.at[:,5].set(0)\n",
    "    # qpos_all.append(qposes[:,:3]+dpos)\n",
    "# qpos_all = jp.stack(qpos_all)\n",
    "# qposes = qposes.at[:,:3].set(qpos_all)"
   ]
  },
  {
   "cell_type": "code",
   "execution_count": 75,
   "metadata": {},
   "outputs": [],
   "source": [
    "positions = qposes[1:, 0]"
   ]
  },
  {
   "cell_type": "code",
   "execution_count": 76,
   "metadata": {},
   "outputs": [],
   "source": [
    "qposes = qposes.at[1:,0].set(positions + np.cumsum(np.diff(fictrac_forward_mm)))\n",
    "qposes = qposes.at[:,3].set(3.1415)"
   ]
  },
  {
   "cell_type": "code",
   "execution_count": 144,
   "metadata": {},
   "outputs": [],
   "source": [
    "model_path = (\"/home/eabe/Research/MyRepos/Brax-Rodent-Track/assets/fruitfly/fruitfly_force_fast_amp.xml\")\n",
    "\n",
    "spec = mujoco.MjSpec()\n",
    "spec = spec.from_file(model_path)\n",
    "thorax0 = spec.find_body(\"thorax\")\n",
    "mj_model = spec.compile()\n",
    "mj_model.opt.solver = {\n",
    "    \"cg\": mujoco.mjtSolver.mjSOL_CG,\n",
    "    \"newton\": mujoco.mjtSolver.mjSOL_NEWTON,\n",
    "}[\"cg\"]\n",
    "mj_model.opt.iterations = cfg.dataset.env_args.iterations\n",
    "mj_model.opt.ls_iterations = cfg.dataset.env_args.ls_iterations\n",
    "mj_model.opt.timestep = env.sys.mj_model.opt.timestep\n",
    "mj_data = mujoco.MjData(mj_model)\n",
    "\n",
    "scene_option = mujoco.MjvOption()\n",
    "scene_option.sitegroup[:] = [1, 1, 1, 1, 1, 0]\n",
    "\n",
    "# save rendering and log to wandb\n",
    "mujoco.mj_kinematics(mj_model, mj_data)\n",
    "# renderer = mujoco.Renderer(mj_model, height=512, width=512)\n",
    "# qposes_rollout = mocap_qpos.reshape(581,1800,-1)[0,:500]\n",
    "# qposes_rollout = qposes_rollout.at[:,2].set(.05)\n",
    "# qposes_rollout = qposes_rollout.at[:,3:7].set(0)\n",
    "# qposes = qposes.at[:,2].set(.1)\n",
    "# qposes = qposes.at[:,3:7].set(0)\n",
    "frames = []\n",
    "# render while stepping using mujoco\n",
    "with mujoco.Renderer(mj_model, height=480, width=480) as renderer:\n",
    "    for qpos1 in qposes[:200]:\n",
    "        mj_data.qpos = qpos1\n",
    "        mujoco.mj_forward(mj_model, mj_data)\n",
    "        renderer.update_scene(mj_data, camera='track1', scene_option=scene_option)\n",
    "        pixels = renderer.render()\n",
    "        frames.append(pixels)"
   ]
  },
  {
   "cell_type": "code",
   "execution_count": null,
   "metadata": {},
   "outputs": [],
   "source": [
    "media.show_video(frames, fps=50)"
   ]
  },
  {
   "cell_type": "code",
   "execution_count": 148,
   "metadata": {},
   "outputs": [],
   "source": [
    "\n",
    "import jax\n",
    "from jax import jit\n",
    "from jax import numpy as jp\n",
    "from flax import struct\n",
    "\n",
    "from dm_control import mjcf\n",
    "from dm_control.locomotion.walkers import rescale\n",
    "\n",
    "import mujoco\n",
    "from mujoco import mjx\n",
    "from mujoco.mjx._src import smooth\n",
    "\n",
    "import preprocessing.transformations as tr\n",
    "\n",
    "from collections import defaultdict\n",
    "from typing import Text, Union, List\n",
    "import h5py\n",
    "import pickle\n",
    "from preprocessing.mjx_preprocess import process_clip"
   ]
  },
  {
   "cell_type": "code",
   "execution_count": null,
   "metadata": {},
   "outputs": [],
   "source": [
    "root = mjcf.from_path(model_path)\n",
    "\n",
    "# rescale a rodent model.\n",
    "\n",
    "mj_model = mjcf.Physics.from_mjcf_model(root).model.ptr\n",
    "mj_data = mujoco.MjData(mj_model)\n",
    "\n",
    "# Initialize MuJoCo model and data structures & place into GPU\n",
    "mjx_model = mjx.put_model(mj_model)\n",
    "mjx_data = mjx.put_data(mj_model, mj_data)\n",
    "\n",
    "ref_clip = process_clip(qposes, mjx_model, mjx_data, max_qvel=20, dt=1/300)"
   ]
  },
  {
   "cell_type": "code",
   "execution_count": 157,
   "metadata": {},
   "outputs": [],
   "source": [
    "# reference_path = Path(cfg.paths.data_dir)/ f\"clips/all_clips_interp.p\"\n",
    "reference_path = Path(cfg.paths.data_dir)/ f\"clips/amp_data.p\"\n",
    "reference_path.parent.mkdir(parents=True, exist_ok=True)\n",
    "\n",
    "with open(reference_path, \"wb\") as file:\n",
    "    # Use pickle.dump() to save the data to the file\n",
    "    pickle.dump(ref_clip, file)"
   ]
  },
  {
   "cell_type": "code",
   "execution_count": null,
   "metadata": {},
   "outputs": [],
   "source": [
    "ref_clip.joints.shape"
   ]
  },
  {
   "cell_type": "code",
   "execution_count": null,
   "metadata": {},
   "outputs": [],
   "source": [
    "plt.plot(fictrac_x_mm,fictrac_y_mm)"
   ]
  },
  {
   "cell_type": "code",
   "execution_count": null,
   "metadata": {},
   "outputs": [],
   "source": [
    "# xml_path = Path('/home/eabe/Research/MyRepos/Brax-Rodent-Track/assets/fruitfly/fruitfly_force_fast_amp.xml')\n",
    "xml_path = '/home/eabe/Research/MyRepos/Brax-Rodent-Track/assets/fruitfly/fruitfly_viz_only.xml'\n",
    "spec = mujoco.MjSpec()\n",
    "spec = spec.from_file(xml_path)\n",
    "mj_model = spec.compile()\n",
    "mj_data = mujoco.MjData(mj_model)\n",
    "\n",
    "camera = 'back'\n",
    "\n",
    "scene_option = mujoco.MjvOption()\n",
    "scene_option.geomgroup[:] = [1, 1, 0, 0, 0, 0]\n",
    "scene_option.sitegroup[:] = [1, 1, 1, 1, 1, 0]\n",
    "# scene_option.flags[mujoco.mjtVisFlag.mjVIS_CONTACTPOINT] = True\n",
    "# scene_option.flags[mujoco.mjtVisFlag.mjVIS_CONTACTFORCE] = True\n",
    "# scene_option.flags[mujoco.mjtVisFlag.mjVIS_JOINT] = False\n",
    "# scene_option.flags[mujoco.mjtVisFlag.mjVIS_ACTUATOR] = False\n",
    "# scene_option.flags[mujoco.mjtVisFlag.mjVIS_LIGHT] = False\n",
    "# scene_option.flags[mujoco.mjtVisFlag.mjVIS_CONVEXHULL] = False\n",
    "# scene_option.flags[mujoco.mjtRndFlag.mjRND_SHADOW] = False\n",
    "# scene_option.flags[mujoco.mjtRndFlag.mjRND_REFLECTION] = False\n",
    "# scene_option.flags[mujoco.mjtRndFlag.mjRND_SKYBOX] = False\n",
    "# scene_option.flags[mujoco.mjtRndFlag.mjRND_FOG] = False\n",
    "# scene_option.flags[mujoco.mjtVisFlag.mjVIS_STATIC] = False\n",
    "scene_option.flags[mujoco.mjtVisFlag.mjVIS_TRANSPARENT] = True\n",
    "# mj_data.qpos = np.concatenate([qposes_stac[n] for n in range(0,25,5)])\n",
    "mujoco.mj_forward(mj_model, mj_data)\n",
    "renderer = mujoco.Renderer(mj_model, height=420, width=640)\n",
    "\n",
    "\n",
    "# mj_data.mocap_pos = mod_frames[0].copy()\n",
    "mujoco.mj_forward(mj_model, mj_data)\n",
    "\n",
    "renderer.update_scene(mj_data, camera='side', scene_option=scene_option)\n",
    "pixels = renderer.render()\n",
    "Image.fromarray(pixels)\n",
    "# renderer.update_scene(mj_data, camera='side', scene_option=scene_option)\n",
    "# pixels = renderer.render()\n",
    "# Image.fromarray(pixels)\n",
    "# im = Image.fromarray(pixels)\n",
    "# im.save(fig_dir/f'example_mocap_{camera}.png',format='png',dpi=(300,300))\n",
    "# Image.fromarray(pixels)\n",
    "# im.save('example_mocap.png',format='png')\n",
    "# media.show_image(pixels, title='amp_example.png',)"
   ]
  },
  {
   "cell_type": "code",
   "execution_count": null,
   "metadata": {},
   "outputs": [],
   "source": []
  },
  {
   "cell_type": "markdown",
   "metadata": {},
   "source": [
    "# Model Plotting"
   ]
  },
  {
   "cell_type": "code",
   "execution_count": 8,
   "metadata": {},
   "outputs": [],
   "source": [
    "from PIL import Image"
   ]
  },
  {
   "cell_type": "code",
   "execution_count": null,
   "metadata": {},
   "outputs": [],
   "source": [
    "# xml_path = Path('/home/eabe/Research/MyRepos/Brax-Rodent-Track/assets/fruitfly/fruitfly_force_fast_amp.xml')\n",
    "xml_path = '/home/eabe/Research/MyRepos/Brax-Rodent-Track/assets/fruitfly/fruitfly_viz_only.xml'\n",
    "spec = mujoco.MjSpec()\n",
    "spec = spec.from_file(xml_path)\n",
    "mj_model = spec.compile()\n",
    "mj_data = mujoco.MjData(mj_model)\n",
    "\n",
    "camera = 'hero'\n",
    "\n",
    "scene_option = mujoco.MjvOption()\n",
    "scene_option.geomgroup[:] = [1, 1, 0, 0, 0, 0]\n",
    "scene_option.sitegroup[:] = [1, 1, 1, 1, 1, 0]\n",
    "scene_option.flags[mujoco.mjtVisFlag.mjVIS_CONTACTPOINT] = True\n",
    "# scene_option.flags[mujoco.mjtVisFlag.mjVIS_CONTACTFORCE] = True\n",
    "scene_option.flags[mujoco.mjtVisFlag.mjVIS_JOINT] = False\n",
    "scene_option.flags[mujoco.mjtVisFlag.mjVIS_ACTUATOR] = False\n",
    "scene_option.flags[mujoco.mjtVisFlag.mjVIS_LIGHT] = False\n",
    "scene_option.flags[mujoco.mjtVisFlag.mjVIS_CONVEXHULL] = False\n",
    "scene_option.flags[mujoco.mjtRndFlag.mjRND_SHADOW] = False\n",
    "scene_option.flags[mujoco.mjtRndFlag.mjRND_REFLECTION] = False\n",
    "scene_option.flags[mujoco.mjtRndFlag.mjRND_SKYBOX] = False\n",
    "scene_option.flags[mujoco.mjtRndFlag.mjRND_FOG] = False\n",
    "# scene_option.flags[mujoco.mjtVisFlag.mjVIS_STATIC] = False\n",
    "# scene_option.flags[mujoco.mjtVisFlag.mjVIS_TRANSPARENT] = True\n",
    "# mj_data.qpos = np.concatenate([qposes_stac[n] for n in range(0,25,5)])\n",
    "mujoco.mj_forward(mj_model, mj_data)\n",
    "renderer = mujoco.Renderer(mj_model, height=420, width=640)\n",
    "\n",
    "\n",
    "# mj_data.mocap_pos = mod_frames[0].copy()\n",
    "mujoco.mj_forward(mj_model, mj_data)\n",
    "\n",
    "renderer.update_scene(mj_data, camera=camera, scene_option=scene_option)\n",
    "pixels = renderer.render()\n",
    "\n",
    "im = Image.fromarray(pixels)\n",
    "im.save(fig_dir/f'example_mocap_{camera}.png',format='png',dpi=(300,300))\n",
    "Image.fromarray(pixels)\n",
    "# im.save('example_mocap.png',format='png')\n",
    "# media.show_image(pixels, title='amp_example.png',)"
   ]
  },
  {
   "cell_type": "code",
   "execution_count": null,
   "metadata": {},
   "outputs": [],
   "source": [
    "xml_path = task_path / 'task_viz.xml'\n",
    "# xml_path = task_path.parent / 'fruitfly_force_pair.xml'\n",
    "# xml_path = task_path.parent / 'fruitfly_force_seq.xml'\n",
    "# xml_path = task_path.parent / 'fruitfly_force_fast.xml'\n",
    "\n",
    "mj_model = mujoco.MjModel.from_xml_path(xml_path.as_posix())\n",
    "\n",
    "mj_data = mujoco.MjData(mj_model)\n",
    "\n",
    "mocap_names = [mj_model.site(i).name for i in range(mj_model.nsite) if 'mocap' in mj_model.site(i).name]\n",
    "mocap_id = [mj_model.site(i).id for i in range(mj_model.nsite) if 'mocap' in mj_model.site(i).name]\n",
    "# for id in mocap_id:\n",
    "#     mj_model.site(id).rgba = [0,1,0,1]\n",
    "site_names = [mj_model.site(i).name for i in range(mj_model.nsite) if '-1' in mj_model.site(i).name]\n",
    "site_id = [mj_model.site(i).id for i in range(mj_model.nsite) if '-1' in mj_model.site(i).name]\n",
    "for id in site_id:\n",
    "    mj_model.site(id).rgba = [1,0,0,1]\n",
    "\n",
    "# geom_names = [mj_model.geom(i).name for i in range(mj_model.ngeom) if 'T3_left' in mj_model.geom(i).name]\n",
    "# geom_ids = [mj_model.geom(i).id for i in range(mj_model.ngeom) if 'T3_left' in mj_model.geom(i).name]\n",
    "\n",
    "# for id in geom_ids[5:]:\n",
    "#     mj_model.geom(id).group = 4\n",
    "\n",
    "camera_id = 0\n",
    "\n",
    "scene_option = mujoco.MjvOption()\n",
    "scene_option.sitegroup[:] = [1, 1, 1, 0, 1, 0]\n",
    "# scene_option.flags[mujoco.mjtVisFlag.mjVIS_TRANSPARENT] = True\n",
    "scene_option.flags[mujoco.mjtVisFlag.mjVIS_JOINT] = True\n",
    "scene_option.flags[mujoco.mjtVisFlag.mjVIS_ACTUATOR] = True\n",
    "scene_option.flags[mujoco.mjtVisFlag.mjVIS_LIGHT] = False\n",
    "scene_option.flags[mujoco.mjtVisFlag.mjVIS_CONVEXHULL] = True\n",
    "scene_option.flags[mujoco.mjtRndFlag.mjRND_SHADOW] = False\n",
    "scene_option.flags[mujoco.mjtRndFlag.mjRND_REFLECTION] = False\n",
    "scene_option.flags[mujoco.mjtRndFlag.mjRND_SKYBOX] = False\n",
    "scene_option.flags[mujoco.mjtRndFlag.mjRND_FOG] = False\n",
    "# scene_option.flags[mujoco.mjtVisFlag.mjVIS_STATIC] = False\n",
    "\n",
    "# mj_data.qpos = np.concatenate([qposes_stac[n] for n in range(0,2)])\n",
    "# mj_data.qpos = qposes_stac[0]\n",
    "mujoco.mj_kinematics(mj_model, mj_data)\n",
    "renderer = mujoco.Renderer(mj_model, height=420, width=550)\n",
    "\n",
    "\n",
    "# mj_data.mocap_pos = mod_frames[0].copy()\n",
    "mujoco.mj_forward(mj_model, mj_data)\n",
    "\n",
    "renderer.update_scene(mj_data, camera=camera_id, scene_option=scene_option)\n",
    "pixels = renderer.render()\n",
    "PIL.Image.fromarray(pixels)\n",
    "# im = PIL.Image.fromarray(pixels)\n",
    "# im.save(fig_path/'init_camera{}.png'.format(camera_id),format='png')"
   ]
  }
 ],
 "metadata": {
  "kernelspec": {
   "display_name": "stac-mjx-env",
   "language": "python",
   "name": "python3"
  },
  "language_info": {
   "codemirror_mode": {
    "name": "ipython",
    "version": 3
   },
   "file_extension": ".py",
   "mimetype": "text/x-python",
   "name": "python",
   "nbconvert_exporter": "python",
   "pygments_lexer": "ipython3",
   "version": "3.11.9"
  }
 },
 "nbformat": 4,
 "nbformat_minor": 2
}
